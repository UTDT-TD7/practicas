{
 "cells": [
  {
   "cell_type": "markdown",
   "id": "86e1e6f6-8d09-4dcf-a44a-1ae0ef832752",
   "metadata": {},
   "source": [
    "# MongoDB\n",
    "\n",
    "MongoDB es una base de datos de documentos de propósito general.\n",
    "\n",
    "## Documentos\n",
    "Los datos en Mongo se representan como documentos JSON.\n",
    "\n",
    "Los campos pueden variar entre documentos. \n",
    "\n",
    "Se pueden anidar documentos para expresar jerarquías y armar estructuras como arrays.\n",
    "\n",
    "### Colecciones\n",
    "\n",
    "Es un grupo de documentos. Como una tabla, pero más flexible: no tienen un schema a menos que lo configures.\n",
    "\n",
    "### Indices\n",
    "MongoDB soporta varias estrategias de indexado para soportar ejecución eficiente de queries.\n",
    "\n",
    "### Pipelines de agregación\n",
    "MongoDB incorpora un framework para crear pipelines de procesamiento de datos con gran variedad de operadores y expresiones."
   ]
  },
  {
   "cell_type": "code",
   "execution_count": null,
   "id": "3fe46d7b-b5f0-42d2-afd5-9dfd659669d9",
   "metadata": {},
   "outputs": [],
   "source": [
    "from pymongo import MongoClient\n",
    "import pymongo\n",
    "\n",
    "uri = \"mongodb://mongo:27017/\"\n",
    "client = MongoClient(uri)\n",
    "client.admin.command(\"ping\")"
   ]
  },
  {
   "cell_type": "code",
   "execution_count": null,
   "id": "45da003c-5497-4340-a9c3-c946b4863add",
   "metadata": {},
   "outputs": [],
   "source": [
    "db = client[\"clase\"]"
   ]
  },
  {
   "cell_type": "code",
   "execution_count": null,
   "id": "dcd71847-3562-4467-906d-32d5661a877b",
   "metadata": {},
   "outputs": [],
   "source": [
    "#db[\"coleccion1\"].drop()\n",
    "#db[\"coleccion2\"].drop()"
   ]
  },
  {
   "cell_type": "code",
   "execution_count": null,
   "id": "0bb30e3d-d6c2-426c-aeee-6dd96090ec1d",
   "metadata": {},
   "outputs": [],
   "source": [
    "db.create_collection(\"coleccion1\")\n",
    "db.create_collection(\"coleccion2\")"
   ]
  },
  {
   "cell_type": "code",
   "execution_count": null,
   "id": "1bafcadb-b962-4270-8cef-a8fbd786006c",
   "metadata": {
    "scrolled": true
   },
   "outputs": [],
   "source": [
    "db.list_collection_names()"
   ]
  },
  {
   "cell_type": "code",
   "execution_count": null,
   "id": "6b410bf0-a097-4764-a663-bfb63dd362a9",
   "metadata": {},
   "outputs": [],
   "source": [
    "collection = db[\"coleccion1\"]"
   ]
  },
  {
   "cell_type": "markdown",
   "id": "be069170-7a9d-4442-98c5-6e861def02c6",
   "metadata": {},
   "source": [
    "# Insertar"
   ]
  },
  {
   "cell_type": "code",
   "execution_count": null,
   "id": "ee3c8e73-421a-4ed2-a6cc-f6f9dd73bc43",
   "metadata": {},
   "outputs": [],
   "source": [
    "result = collection.insert_one({\"key\": \"value\"})\n",
    "print(result.acknowledged)"
   ]
  },
  {
   "cell_type": "code",
   "execution_count": null,
   "id": "5a1e5c20-0afe-4e59-b30d-50d04163d8c3",
   "metadata": {},
   "outputs": [],
   "source": [
    "document_list = [\n",
    "   {\"key\": \"value1\"},\n",
    "   {\"key\": \"value2\"}\n",
    "]\n",
    "result = collection.insert_many(document_list)\n",
    "print(result.acknowledged)"
   ]
  },
  {
   "cell_type": "markdown",
   "id": "bb5104fc-e168-45d0-92eb-e71446efe48e",
   "metadata": {},
   "source": [
    "# Actualizar"
   ]
  },
  {
   "cell_type": "code",
   "execution_count": null,
   "id": "34fb449b-56b3-4df1-9654-98d4f8900a13",
   "metadata": {},
   "outputs": [],
   "source": [
    "query_filter = { \"key\" : \"value2\" }\n",
    "update_operation = { \"$set\" : \n",
    "    { \"key\" : \"value\" }\n",
    "}\n",
    "result = collection.update_one(query_filter, update_operation)\n",
    "print(result.modified_count)"
   ]
  },
  {
   "cell_type": "code",
   "execution_count": null,
   "id": "98d7b844-5215-472a-ac73-9ac5adabf4f3",
   "metadata": {},
   "outputs": [],
   "source": [
    "query_filter = { \"key\" : \"value\" }\n",
    "update_operation = { \"$set\" : \n",
    "    { \"key\" : \"value1000\" }\n",
    "}\n",
    "result = collection.update_many(query_filter, update_operation)\n",
    "print(result.modified_count)"
   ]
  },
  {
   "cell_type": "markdown",
   "id": "e4e91fae-6028-4f54-85d9-e371e9761bc3",
   "metadata": {},
   "source": [
    "# Reemplazar"
   ]
  },
  {
   "cell_type": "code",
   "execution_count": null,
   "id": "1e8f9455-0def-4ea9-b2b2-edc8d312d9a3",
   "metadata": {},
   "outputs": [],
   "source": [
    "query_filter = { \"key\" : \"value1000\" }\n",
    "replace_document = { \"another_key\" : \"another_value\" }\n",
    "result = collection.replace_one(query_filter, replace_document)\n",
    "print(result.modified_count)"
   ]
  },
  {
   "cell_type": "markdown",
   "id": "955249fd-827c-445a-bf31-ba53d4988974",
   "metadata": {},
   "source": [
    "# Borrar"
   ]
  },
  {
   "cell_type": "code",
   "execution_count": null,
   "id": "87e40ba6-d5ed-487c-9309-cd9dbb76c7ed",
   "metadata": {},
   "outputs": [],
   "source": [
    "query_filter = { \"key\" : \"value1000\" }\n",
    "result = collection.delete_one(query_filter)\n",
    "print(result.deleted_count)"
   ]
  },
  {
   "cell_type": "code",
   "execution_count": null,
   "id": "63971bb6-a9db-48bb-b023-55c09bb9510b",
   "metadata": {},
   "outputs": [],
   "source": [
    "query_filter = { \"key\" : \"value1000\" }\n",
    "result = collection.delete_many(query_filter)\n",
    "print(result.deleted_count)"
   ]
  },
  {
   "cell_type": "markdown",
   "id": "76adfd85-7757-4509-88df-0632973b3b0f",
   "metadata": {},
   "source": [
    "# Buscar"
   ]
  },
  {
   "cell_type": "code",
   "execution_count": null,
   "id": "1ee74034-4e2d-4621-b01c-ffecd5b37eac",
   "metadata": {},
   "outputs": [],
   "source": [
    "collection = db[\"fruits\"]\n",
    "collection.insert_many([\n",
    "        { \"name\": \"apples\", \"qty\": 5, \"rating\": 3, \"color\": \"red\", \"type\": [\"fuji\", \"honeycrisp\"] },\n",
    "        { \"name\": \"bananas\", \"qty\": 7, \"rating\": 4, \"color\": \"yellow\", \"type\": [\"cavendish\"] },\n",
    "        { \"name\": \"oranges\", \"qty\": 6, \"rating\": 2, \"type\": [\"naval\", \"mandarin\"] },\n",
    "        { \"name\": \"pineapple\", \"qty\": 3, \"rating\": 5, \"color\": \"yellow\" },\n",
    "])"
   ]
  },
  {
   "cell_type": "code",
   "execution_count": null,
   "id": "cea1410b-c410-4a6b-9b2c-94f42a3c916d",
   "metadata": {},
   "outputs": [],
   "source": [
    "results = collection.find({ \"color\": \"yellow\" })\n",
    "list(results)"
   ]
  },
  {
   "cell_type": "markdown",
   "id": "4c2df884-7ed2-4762-a663-47832abb880c",
   "metadata": {},
   "source": [
    "## Comparación\n",
    "\n",
    "- `$eq`\n",
    "- `$gt`\n",
    "- `$gte`\n",
    "- `$in`\n",
    "- `$lt`\n",
    "- `$lte`\n",
    "- `$ne`\n",
    "- `$nin`\n",
    "\n",
    "[Referencias](https://www.mongodb.com/docs/manual/reference/operator/query-comparison/)"
   ]
  },
  {
   "cell_type": "code",
   "execution_count": null,
   "id": "ea2cc161-651a-4407-bc66-fb7dc140f79f",
   "metadata": {},
   "outputs": [],
   "source": [
    "results = collection.find({ \"rating\": { \"$gt\" : 2 }})\n",
    "list(results)"
   ]
  },
  {
   "cell_type": "markdown",
   "id": "6458f9a3-9212-4f53-af32-a2ee173dbc29",
   "metadata": {},
   "source": [
    "## Operadores lógicos\n",
    "\n",
    "- `$and`\n",
    "- `$not`\n",
    "- `$nor`\n",
    "- `$or`"
   ]
  },
  {
   "cell_type": "code",
   "execution_count": null,
   "id": "1b53ed29-daec-412f-8baa-68779fc423e5",
   "metadata": {},
   "outputs": [],
   "source": [
    "results = collection.find({ \n",
    "    \"$or\": [\n",
    "        { \"qty\": { \"$gt\": 5 }},\n",
    "        { \"color\": \"yellow\" }\n",
    "    ]\n",
    "})\n",
    "list(results)"
   ]
  },
  {
   "cell_type": "markdown",
   "id": "afb617f8-331b-41ad-b432-b46d4f7d5276",
   "metadata": {},
   "source": [
    "## Otros\n",
    "\n",
    "Ver [array operators](https://www.mongodb.com/docs/languages/python/pymongo-driver/current/read/specify-a-query/#array-operators), [element operators](https://www.mongodb.com/docs/languages/python/pymongo-driver/current/read/specify-a-query/#element-operators), [evaluation operators](https://www.mongodb.com/docs/languages/python/pymongo-driver/current/read/specify-a-query/#evaluation-operators)\n",
    "\n",
    "- `$exists`"
   ]
  },
  {
   "cell_type": "code",
   "execution_count": null,
   "id": "cbbc5e7f-0189-477e-a9bf-75d675c303ee",
   "metadata": {},
   "outputs": [],
   "source": [
    "results = collection.find({ \n",
    "    \"type\": {\n",
    "        \"$exists\": False\n",
    "    }\n",
    "})\n",
    "list(results)"
   ]
  },
  {
   "cell_type": "markdown",
   "id": "806e270b-4f33-4874-8951-d5b64f91f545",
   "metadata": {},
   "source": [
    "# Proyección"
   ]
  },
  {
   "cell_type": "code",
   "execution_count": null,
   "id": "a83d650c-bf8d-46fa-b510-6fe2b14e8d5b",
   "metadata": {},
   "outputs": [],
   "source": [
    "results = collection.find({\n",
    "    \"type\": {\n",
    "        \"$exists\": True\n",
    "    }\n",
    "}, {\"name\": 1})\n",
    "list(results)"
   ]
  },
  {
   "cell_type": "code",
   "execution_count": null,
   "id": "92607831-ba4a-4091-92da-75581a098f72",
   "metadata": {},
   "outputs": [],
   "source": [
    "results = collection.find({\n",
    "    \"type\": {\n",
    "        \"$exists\": True\n",
    "    }\n",
    "}, {\"name\": 1, \"_id\": 0})\n",
    "list(results)"
   ]
  },
  {
   "cell_type": "markdown",
   "id": "f32986a0-04f8-4410-bf41-370ee4e42e9d",
   "metadata": {},
   "source": [
    "# Documentos a retornar"
   ]
  },
  {
   "cell_type": "code",
   "execution_count": null,
   "id": "db6bcf65-d87a-4e2d-aafa-1fd496a4be62",
   "metadata": {},
   "outputs": [],
   "source": [
    "results = collection.find({\n",
    "    \"type\": {\n",
    "        \"$exists\": True\n",
    "    }\n",
    "}, {\"name\": 1, \"rating\": 1, \"_id\": 0}).sort(\"rating\", pymongo.DESCENDING).skip(1).limit(2)\n",
    "list(results)"
   ]
  },
  {
   "cell_type": "markdown",
   "id": "208bd8c7-ed8c-4b36-8303-1037b020fff1",
   "metadata": {},
   "source": [
    "## Distinct"
   ]
  },
  {
   "cell_type": "code",
   "execution_count": null,
   "id": "ace05581-9e05-448a-832c-92b3529b1fe8",
   "metadata": {},
   "outputs": [],
   "source": [
    "results = collection.distinct(\"color\", {\"rating\": {\"$gte\": 4}})\n",
    "list(results)"
   ]
  },
  {
   "cell_type": "markdown",
   "id": "8b9c5f92-00e2-4f68-a18b-770f07f5c8ae",
   "metadata": {},
   "source": [
    "# Indices\n",
    "\n",
    "Ver [más ejemplos](https://www.mongodb.com/docs/languages/python/pymongo-driver/current/indexes/)"
   ]
  },
  {
   "cell_type": "code",
   "execution_count": null,
   "id": "9be7c1c1-a826-48f9-9f54-60f620906663",
   "metadata": {},
   "outputs": [],
   "source": [
    "result = collection.create_index(\"type\")\n",
    "print(f'Index created: {result}')"
   ]
  },
  {
   "cell_type": "code",
   "execution_count": null,
   "id": "3014ed9e-f07e-4579-8f13-5059f8d68ff0",
   "metadata": {},
   "outputs": [],
   "source": [
    "result = collection.create_index([\n",
    "    (\"type\", pymongo.ASCENDING),\n",
    "    (\"rating\", pymongo.ASCENDING)\n",
    "])\n",
    "print(f\"Index created: {result}\")"
   ]
  },
  {
   "cell_type": "markdown",
   "id": "3900ec9c-61e1-4960-9bc8-c671ef40cddd",
   "metadata": {},
   "source": [
    "# Agregaciones\n",
    "\n",
    "Es un data pipeline."
   ]
  },
  {
   "cell_type": "code",
   "execution_count": null,
   "id": "67c21df8-811f-4a55-a949-5d431535b0e6",
   "metadata": {},
   "outputs": [],
   "source": [
    "import requests\n",
    "import bson.json_util as jsutil\n",
    "import json\n",
    "\n",
    "accounts_url = \"https://raw.githubusercontent.com/neelabalan/mongodb-sample-dataset/main/sample_analytics/accounts.json\"\n",
    "customers_url = \"https://raw.githubusercontent.com/neelabalan/mongodb-sample-dataset/main/sample_analytics/customers.json\"\n",
    "transactions_url = \"https://raw.githubusercontent.com/neelabalan/mongodb-sample-dataset/main/sample_analytics/transactions.json\""
   ]
  },
  {
   "cell_type": "code",
   "execution_count": null,
   "id": "b3423478-a3d2-4deb-a554-b0d54ba0e873",
   "metadata": {},
   "outputs": [],
   "source": [
    "jsutil.loads(requests.get(accounts_url).content.decode().split(\"\\n\")[0])"
   ]
  },
  {
   "cell_type": "code",
   "execution_count": null,
   "id": "398b98f7-bcbc-4cdb-bd6a-2cd2979ff7e0",
   "metadata": {},
   "outputs": [],
   "source": [
    "from tqdm.autonotebook import tqdm\n",
    "\n",
    "db = client[\"analytics\"]\n",
    "\n",
    "db[\"accounts\"].drop()\n",
    "accounts = db[\"accounts\"]\n",
    "for line in tqdm(requests.get(accounts_url).content.decode().strip().split(\"\\n\")):\n",
    "    accounts.insert_one(jsutil.loads(line))\n",
    "\n",
    "db[\"customers\"].drop()\n",
    "customers = db[\"customers\"]\n",
    "for line in tqdm(requests.get(customers_url).content.decode().strip().split(\"\\n\")):\n",
    "    customers.insert_one(jsutil.loads(line))    \n",
    "\n",
    "db[\"transactions\"].drop()\n",
    "transactions = db[\"transactions\"]\n",
    "for line in tqdm(requests.get(transactions_url).content.decode().strip().split(\"\\n\")):\n",
    "    transactions.insert_one(jsutil.loads(line))    "
   ]
  },
  {
   "cell_type": "code",
   "execution_count": null,
   "id": "ce64e84d-7a2b-4cb1-abc7-a76c3a4945c9",
   "metadata": {},
   "outputs": [],
   "source": [
    "pipeline = [\n",
    "    { \"$unwind\": \"$transactions\" },\n",
    "    { \"$match\": {\"transactions.transaction_code\": \"buy\", \"transactions.symbol\": {\"$in\": [\"aapl\", \"msft\", \"nvda\"]} }},\n",
    "    {'$set': {'transactions.total': {'$toDouble': '$transactions.total'}}},\n",
    "    { \"$group\": {\"_id\": \"$transactions.symbol\",\n",
    "                 \"operations\": {\"$sum\": 1},\n",
    "                 \"volume\": {\"$sum\": \"$transactions.total\"},\n",
    "                 \"shares_volume\": {\"$sum\": \"$transactions.amount\"},\n",
    "                \"first_purchase\": {\"$first\": \"$transactions.date\"}\n",
    "                }},\n",
    "    {\"$sort\": {\"volume\": 1}}\n",
    "]\n",
    "\n",
    "result = transactions.aggregate(pipeline)\n",
    "list(result)"
   ]
  },
  {
   "cell_type": "code",
   "execution_count": null,
   "id": "019a0a7a-776c-438a-bdd0-48afd0a72170",
   "metadata": {},
   "outputs": [],
   "source": [
    "customers.find_one({})"
   ]
  },
  {
   "cell_type": "markdown",
   "id": "85bee048-4375-4251-80f3-eabf0f1580f7",
   "metadata": {},
   "source": [
    "Ver [la referencia](https://www.mongodb.com/docs/manual/aggregation/)."
   ]
  },
  {
   "cell_type": "markdown",
   "id": "f8b46a84-cef5-401a-8b3c-a5f05daa857c",
   "metadata": {},
   "source": [
    "# Ejercicios\n",
    "1. Leer un elemento cualquiera de cada una de las tres colecciones\n",
    "2. Calcular cuantas cuentas tienen cada tipo de producto y el limite promedio que tienen\n",
    "3. El [siguiente código](https://stackoverflow.com/a/60352517) es un template de como crear [una vista](https://www.mongodb.com/docs/manual/core/views/join-collections-with-view/):\n",
    "\n",
    "```python\n",
    "db.create_collection(\n",
    "    'parsed_tests_view',\n",
    "    viewOn='parsed_tests',\n",
    "    pipeline=[{\n",
    "        '$lookup': {\n",
    "            'from': \"raw_tests\",\n",
    "            'localField': \"repository_path\",\n",
    "            'foreignField': \"repository_path\",\n",
    "            'as': \"raw_data\"\n",
    "        }\n",
    "    }]\n",
    ")\n",
    "```\n",
    "\n",
    "Cree una vista uniendo `customers` con `accounts`.\n",
    "\n",
    "4. Con la vista creada en el punto 3, muestre los mails de los 10 clientes con mayor limite de cuenta total sumando los limites de todas sus cuentas.\n",
    "5. Arme un pipeline para calcular el PnL promedio de todas las cuentas\n",
    "6. Arme un pipeline para calcular el top 5 de cuentas con mejores ganancias realizadas"
   ]
  },
  {
   "cell_type": "code",
   "execution_count": null,
   "id": "7010c049-6e59-429f-95f3-68de34335cde",
   "metadata": {},
   "outputs": [],
   "source": []
  }
 ],
 "metadata": {
  "kernelspec": {
   "display_name": "Python 3 (ipykernel)",
   "language": "python",
   "name": "python3"
  },
  "language_info": {
   "codemirror_mode": {
    "name": "ipython",
    "version": 3
   },
   "file_extension": ".py",
   "mimetype": "text/x-python",
   "name": "python",
   "nbconvert_exporter": "python",
   "pygments_lexer": "ipython3",
   "version": "3.11.9"
  }
 },
 "nbformat": 4,
 "nbformat_minor": 5
}
