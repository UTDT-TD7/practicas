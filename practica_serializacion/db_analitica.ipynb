{
 "cells": [
  {
   "cell_type": "code",
   "execution_count": 26,
   "metadata": {},
   "outputs": [],
   "source": [
    "import duckdb\n",
    "import pyarrow.parquet as pq\n",
    "import s3fs\n",
    "import time"
   ]
  },
  {
   "cell_type": "markdown",
   "metadata": {},
   "source": [
    "# Acceso a parquets particionados en S3"
   ]
  },
  {
   "cell_type": "code",
   "execution_count": 2,
   "metadata": {},
   "outputs": [],
   "source": [
    "fs = s3fs.S3FileSystem(anon=False, endpoint_url=\"http://localhost:9000\",\n",
    "                 key='catedra', secret='catedrapass', use_ssl=False)"
   ]
  },
  {
   "cell_type": "markdown",
   "metadata": {},
   "source": [
    "# Acceso a parquet particula\n",
    "Se puede leer un parquet individual con pyarrow, o usar filtros para resolver consultas "
   ]
  },
  {
   "cell_type": "code",
   "execution_count": 3,
   "metadata": {},
   "outputs": [
    {
     "data": {
      "text/plain": [
       "pyarrow.Table\n",
       "ts: date32[day]\n",
       "cantidad: int32\n",
       "hour: int32\n",
       "valor: float\n",
       "tipo: string\n",
       "----\n",
       "ts: [[2023-06-01,2023-06-01,2023-06-01,2023-06-01,2023-06-01,...,2023-06-01,2023-06-01,2023-06-01,2023-06-01,2023-06-01]]\n",
       "cantidad: [[45,87,75,13,10,...,19,26,75,97,62]]\n",
       "hour: [[0,0,0,0,0,...,23,23,23,23,23]]\n",
       "valor: [[0.79934084,0.4796671,0.13389292,0.8573266,0.14717335,...,0.2803504,0.88382137,0.7066165,0.4143071,0.23564212]]\n",
       "tipo: [[\"bbb\",\"bbb\",\"bbb\",\"aaa\",\"ddd\",...,\"ddd\",\"ddd\",\"aaa\",\"ccc\",\"aaa\"]]"
      ]
     },
     "execution_count": 3,
     "metadata": {},
     "output_type": "execute_result"
    }
   ],
   "source": [
    "pq_table = pq.read_table('randata/month=6/day=1/0.parquet', filesystem=fs)\n",
    "pq_table"
   ]
  },
  {
   "cell_type": "code",
   "execution_count": 9,
   "metadata": {},
   "outputs": [
    {
     "data": {
      "text/html": [
       "<div>\n",
       "<style scoped>\n",
       "    .dataframe tbody tr th:only-of-type {\n",
       "        vertical-align: middle;\n",
       "    }\n",
       "\n",
       "    .dataframe tbody tr th {\n",
       "        vertical-align: top;\n",
       "    }\n",
       "\n",
       "    .dataframe thead th {\n",
       "        text-align: right;\n",
       "    }\n",
       "</style>\n",
       "<table border=\"1\" class=\"dataframe\">\n",
       "  <thead>\n",
       "    <tr style=\"text-align: right;\">\n",
       "      <th></th>\n",
       "      <th>ts</th>\n",
       "      <th>cantidad</th>\n",
       "      <th>hour</th>\n",
       "      <th>valor</th>\n",
       "      <th>tipo</th>\n",
       "      <th>month</th>\n",
       "      <th>day</th>\n",
       "    </tr>\n",
       "  </thead>\n",
       "  <tbody>\n",
       "    <tr>\n",
       "      <th>0</th>\n",
       "      <td>2023-05-28</td>\n",
       "      <td>8</td>\n",
       "      <td>2</td>\n",
       "      <td>0.994326</td>\n",
       "      <td>aaa</td>\n",
       "      <td>5</td>\n",
       "      <td>28</td>\n",
       "    </tr>\n",
       "    <tr>\n",
       "      <th>1</th>\n",
       "      <td>2023-05-28</td>\n",
       "      <td>28</td>\n",
       "      <td>3</td>\n",
       "      <td>0.998410</td>\n",
       "      <td>aaa</td>\n",
       "      <td>5</td>\n",
       "      <td>28</td>\n",
       "    </tr>\n",
       "    <tr>\n",
       "      <th>2</th>\n",
       "      <td>2023-05-28</td>\n",
       "      <td>33</td>\n",
       "      <td>6</td>\n",
       "      <td>0.991118</td>\n",
       "      <td>aaa</td>\n",
       "      <td>5</td>\n",
       "      <td>28</td>\n",
       "    </tr>\n",
       "    <tr>\n",
       "      <th>3</th>\n",
       "      <td>2023-05-28</td>\n",
       "      <td>41</td>\n",
       "      <td>7</td>\n",
       "      <td>0.995455</td>\n",
       "      <td>aaa</td>\n",
       "      <td>5</td>\n",
       "      <td>28</td>\n",
       "    </tr>\n",
       "    <tr>\n",
       "      <th>4</th>\n",
       "      <td>2023-05-28</td>\n",
       "      <td>57</td>\n",
       "      <td>8</td>\n",
       "      <td>0.998239</td>\n",
       "      <td>aaa</td>\n",
       "      <td>5</td>\n",
       "      <td>28</td>\n",
       "    </tr>\n",
       "  </tbody>\n",
       "</table>\n",
       "</div>"
      ],
      "text/plain": [
       "           ts  cantidad  hour     valor tipo month day\n",
       "0  2023-05-28         8     2  0.994326  aaa     5  28\n",
       "1  2023-05-28        28     3  0.998410  aaa     5  28\n",
       "2  2023-05-28        33     6  0.991118  aaa     5  28\n",
       "3  2023-05-28        41     7  0.995455  aaa     5  28\n",
       "4  2023-05-28        57     8  0.998239  aaa     5  28"
      ]
     },
     "execution_count": 9,
     "metadata": {},
     "output_type": "execute_result"
    }
   ],
   "source": [
    "pq_table_query = pq.read_table('randata/',\n",
    "                        filters=[('valor','>',0.99),('tipo','=','aaa')], filesystem=fs)\n",
    "pq_table_query.to_pandas().head()"
   ]
  },
  {
   "cell_type": "markdown",
   "metadata": {},
   "source": [
    "# Acceso a un dataset\n",
    "Pyarrow tambien permite el acceso a [Dataset](https://arrow.apache.org/docs/python/generated/pyarrow.dataset.Dataset.html) un conjunto de parquets particionado.\n",
    "\n",
    "En minio podemos ver la estructura del particionado, que sigue el formato de hive para los nombres de los paths.\n",
    "\n",
    "Un dataset tambien soporta filtros para hacer consultas sobre todos los datos."
   ]
  },
  {
   "cell_type": "code",
   "execution_count": 10,
   "metadata": {},
   "outputs": [
    {
     "data": {
      "text/plain": [
       "['randata/month=5/day=28/0.parquet',\n",
       " 'randata/month=5/day=29/0.parquet',\n",
       " 'randata/month=5/day=30/0.parquet',\n",
       " 'randata/month=5/day=31/0.parquet',\n",
       " 'randata/month=6/day=1/0.parquet']"
      ]
     },
     "execution_count": 10,
     "metadata": {},
     "output_type": "execute_result"
    }
   ],
   "source": [
    "dataset = pq.ParquetDataset('randata/', filesystem=fs)\n",
    "dataset.files[:5]"
   ]
  },
  {
   "cell_type": "code",
   "execution_count": 17,
   "metadata": {},
   "outputs": [
    {
     "data": {
      "text/html": [
       "<div>\n",
       "<style scoped>\n",
       "    .dataframe tbody tr th:only-of-type {\n",
       "        vertical-align: middle;\n",
       "    }\n",
       "\n",
       "    .dataframe tbody tr th {\n",
       "        vertical-align: top;\n",
       "    }\n",
       "\n",
       "    .dataframe thead th {\n",
       "        text-align: right;\n",
       "    }\n",
       "</style>\n",
       "<table border=\"1\" class=\"dataframe\">\n",
       "  <thead>\n",
       "    <tr style=\"text-align: right;\">\n",
       "      <th></th>\n",
       "      <th>ts</th>\n",
       "      <th>cantidad</th>\n",
       "      <th>hour</th>\n",
       "      <th>valor</th>\n",
       "      <th>tipo</th>\n",
       "      <th>month</th>\n",
       "      <th>day</th>\n",
       "    </tr>\n",
       "  </thead>\n",
       "  <tbody>\n",
       "    <tr>\n",
       "      <th>0</th>\n",
       "      <td>2023-05-28</td>\n",
       "      <td>8</td>\n",
       "      <td>2</td>\n",
       "      <td>0.994326</td>\n",
       "      <td>aaa</td>\n",
       "      <td>5</td>\n",
       "      <td>28</td>\n",
       "    </tr>\n",
       "    <tr>\n",
       "      <th>1</th>\n",
       "      <td>2023-05-28</td>\n",
       "      <td>28</td>\n",
       "      <td>3</td>\n",
       "      <td>0.998410</td>\n",
       "      <td>aaa</td>\n",
       "      <td>5</td>\n",
       "      <td>28</td>\n",
       "    </tr>\n",
       "    <tr>\n",
       "      <th>2</th>\n",
       "      <td>2023-05-28</td>\n",
       "      <td>33</td>\n",
       "      <td>6</td>\n",
       "      <td>0.991118</td>\n",
       "      <td>aaa</td>\n",
       "      <td>5</td>\n",
       "      <td>28</td>\n",
       "    </tr>\n",
       "    <tr>\n",
       "      <th>3</th>\n",
       "      <td>2023-05-28</td>\n",
       "      <td>41</td>\n",
       "      <td>7</td>\n",
       "      <td>0.995455</td>\n",
       "      <td>aaa</td>\n",
       "      <td>5</td>\n",
       "      <td>28</td>\n",
       "    </tr>\n",
       "    <tr>\n",
       "      <th>4</th>\n",
       "      <td>2023-05-28</td>\n",
       "      <td>57</td>\n",
       "      <td>8</td>\n",
       "      <td>0.998239</td>\n",
       "      <td>aaa</td>\n",
       "      <td>5</td>\n",
       "      <td>28</td>\n",
       "    </tr>\n",
       "  </tbody>\n",
       "</table>\n",
       "</div>"
      ],
      "text/plain": [
       "           ts  cantidad  hour     valor tipo month day\n",
       "0  2023-05-28         8     2  0.994326  aaa     5  28\n",
       "1  2023-05-28        28     3  0.998410  aaa     5  28\n",
       "2  2023-05-28        33     6  0.991118  aaa     5  28\n",
       "3  2023-05-28        41     7  0.995455  aaa     5  28\n",
       "4  2023-05-28        57     8  0.998239  aaa     5  28"
      ]
     },
     "execution_count": 17,
     "metadata": {},
     "output_type": "execute_result"
    }
   ],
   "source": [
    "dataset = pq.ParquetDataset('randata/',\n",
    "                        filters=[('valor','>',0.99),('tipo','=','aaa')], filesystem=fs)\n",
    "result_df = dataset.read_pandas().to_pandas()\n",
    "result_df.head()"
   ]
  },
  {
   "cell_type": "code",
   "execution_count": 18,
   "metadata": {},
   "outputs": [
    {
     "data": {
      "text/plain": [
       "93"
      ]
     },
     "execution_count": 18,
     "metadata": {},
     "output_type": "execute_result"
    }
   ],
   "source": [
    "len(result_df)"
   ]
  },
  {
   "cell_type": "markdown",
   "metadata": {},
   "source": [
    "# Aceso a los parquets como una db analitica\n",
    "\n",
    "[Duckdb](https://duckdb.org/) es una db analitica en memoria que permite acceder a un conjunto de parquets particionados y hacer consultas de manera eficiente."
   ]
  },
  {
   "cell_type": "code",
   "execution_count": 19,
   "metadata": {},
   "outputs": [],
   "source": [
    "duckdb.sql(\"\"\"INSTALL httpfs;\n",
    "LOAD httpfs;\n",
    "SET s3_region='us-east-1';\n",
    "SET s3_url_style='path';\n",
    "SET s3_endpoint='localhost:9000';\n",
    "SET s3_access_key_id='catedra' ;\n",
    "SET s3_use_ssl=false;\n",
    "SET s3_secret_access_key='catedrapass';\"\"\")"
   ]
  },
  {
   "cell_type": "markdown",
   "metadata": {},
   "source": [
    "Podemos acceder a un solo archivo y resolver las consultas que teniamos en el notebook de serializacion"
   ]
  },
  {
   "cell_type": "code",
   "execution_count": 30,
   "metadata": {},
   "outputs": [
    {
     "data": {
      "text/plain": [
       "┌─────────────────┬─────────────────────┬──────────┬─────────┬──────────┬────────────┐\n",
       "│ CODIGO_LOCACION │        HORA         │ CANTIDAD │ SENTIDO │ LATITUD  │  LONGITUD  │\n",
       "│     varchar     │      timestamp      │  int32   │ varchar │  float   │   float    │\n",
       "├─────────────────┼─────────────────────┼──────────┼─────────┼──────────┼────────────┤\n",
       "│ 48Q39G00+       │ 2020-03-10 17:00:00 │    13041 │ Egreso  │ -34.6333 │ -58.468594 │\n",
       "│ 48Q39G00+       │ 2020-03-06 17:00:00 │    13041 │ Egreso  │ -34.6333 │ -58.468594 │\n",
       "└─────────────────┴─────────────────────┴──────────┴─────────┴──────────┴────────────┘"
      ]
     },
     "execution_count": 30,
     "metadata": {},
     "output_type": "execute_result"
    }
   ],
   "source": [
    "start_time = time.time()\n",
    "result = duckdb.sql(\"\"\"\n",
    "    SELECT * \n",
    "    FROM parquet_scan('s3://flujovehicular/flujo.parquet')\n",
    "    WHERE CANTIDAD > 13000\n",
    "        AND SENTIDO = 'Egreso';\n",
    "\"\"\")\n",
    "duckdb_time = time.time()-start_time\n",
    "result"
   ]
  },
  {
   "cell_type": "code",
   "execution_count": 31,
   "metadata": {},
   "outputs": [
    {
     "data": {
      "text/plain": [
       "0.008410930633544922"
      ]
     },
     "execution_count": 31,
     "metadata": {},
     "output_type": "execute_result"
    }
   ],
   "source": [
    "duckdb_time"
   ]
  },
  {
   "cell_type": "code",
   "execution_count": 32,
   "metadata": {},
   "outputs": [
    {
     "data": {
      "text/plain": [
       "┌─────────────────┬─────────────────────┬──────────┬─────────┬────────────┬────────────┐\n",
       "│ CODIGO_LOCACION │        HORA         │ CANTIDAD │ SENTIDO │  LATITUD   │  LONGITUD  │\n",
       "│     varchar     │      timestamp      │  int32   │ varchar │   float    │   float    │\n",
       "├─────────────────┼─────────────────────┼──────────┼─────────┼────────────┼────────────┤\n",
       "│ 48Q3CH00+       │ 2020-03-11 23:00:00 │     1385 │ Interna │  -34.57963 │ -58.427734 │\n",
       "│ 48Q3FG00+       │ 2020-03-11 23:00:00 │      442 │ Interna │  -34.53698 │ -58.470966 │\n",
       "│ 48Q3CJ00+       │ 2020-03-11 23:00:00 │     2381 │ Interna │ -34.588795 │  -58.38152 │\n",
       "│ 48Q3CJ00+       │ 2020-03-11 23:00:00 │     1431 │ Ingreso │ -34.588795 │  -58.38152 │\n",
       "│ 48Q3CJ00+       │ 2020-03-11 23:00:00 │     1478 │ Egreso  │ -34.588795 │  -58.38152 │\n",
       "│ 48Q3CH00+       │ 2020-03-11 23:00:00 │      117 │ Egreso  │  -34.57963 │ -58.427734 │\n",
       "│ 48Q39J00+       │ 2020-03-11 23:00:00 │     3181 │ Interna │  -34.60855 │  -58.37295 │\n",
       "│ 48Q39H00+       │ 2020-03-11 23:00:00 │     1679 │ Interna │ -34.618034 │ -58.410236 │\n",
       "│ 48Q39G00+       │ 2020-03-11 23:00:00 │     2562 │ Egreso  │   -34.6333 │ -58.468594 │\n",
       "│ 48Q39G00+       │ 2020-03-11 23:00:00 │      452 │ Interna │   -34.6333 │ -58.468594 │\n",
       "│     ·           │          ·          │       ·  │    ·    │       ·    │      ·     │\n",
       "│     ·           │          ·          │       ·  │    ·    │       ·    │      ·     │\n",
       "│     ·           │          ·          │       ·  │    ·    │       ·    │      ·     │\n",
       "│ 48Q3CH00+       │ 2020-03-10 21:00:00 │     1823 │ Interna │  -34.57963 │ -58.427734 │\n",
       "│ 48Q39J00+       │ 2020-03-10 21:00:00 │     5450 │ Interna │  -34.60855 │  -58.37295 │\n",
       "│ 48Q39H00+       │ 2020-03-10 21:00:00 │     3644 │ Interna │ -34.618034 │ -58.410236 │\n",
       "│ 48Q39G00+       │ 2020-03-10 21:00:00 │     5471 │ Ingreso │   -34.6333 │ -58.468594 │\n",
       "│ 48Q39G00+       │ 2020-03-10 20:00:00 │     9337 │ Egreso  │   -34.6333 │ -58.468594 │\n",
       "│ 48Q3FG00+       │ 2020-03-10 20:00:00 │     1651 │ Interna │  -34.53698 │ -58.470966 │\n",
       "│ 48Q3CJ00+       │ 2020-03-10 20:00:00 │     5242 │ Egreso  │ -34.588795 │  -58.38152 │\n",
       "│ 48Q3CJ00+       │ 2020-03-10 20:00:00 │     4591 │ Interna │ -34.588795 │  -58.38152 │\n",
       "│ 48Q3CJ00+       │ 2020-03-10 20:00:00 │     5116 │ Ingreso │ -34.588795 │  -58.38152 │\n",
       "│ 48Q3CH00+       │ 2020-03-10 20:00:00 │     2229 │ Interna │  -34.57963 │ -58.427734 │\n",
       "├─────────────────┴─────────────────────┴──────────┴─────────┴────────────┴────────────┤\n",
       "│ 495 rows (20 shown)                                                        6 columns │\n",
       "└──────────────────────────────────────────────────────────────────────────────────────┘"
      ]
     },
     "execution_count": 32,
     "metadata": {},
     "output_type": "execute_result"
    }
   ],
   "source": [
    "start_time = time.time()\n",
    "result = duckdb.sql(\"\"\"\n",
    "    SELECT * \n",
    "    FROM parquet_scan('s3://flujovehicular/flujo.parquet')\n",
    "    WHERE HORA > '2020-03-10 00:00:00' AND HORA < '2020-03-12 00:00:00';\n",
    "\"\"\")\n",
    "duckdb_time = time.time()-start_time\n",
    "result"
   ]
  },
  {
   "cell_type": "code",
   "execution_count": 33,
   "metadata": {},
   "outputs": [
    {
     "data": {
      "text/plain": [
       "0.008717060089111328"
      ]
     },
     "execution_count": 33,
     "metadata": {},
     "output_type": "execute_result"
    }
   ],
   "source": [
    "duckdb_time"
   ]
  },
  {
   "cell_type": "markdown",
   "metadata": {},
   "source": [
    "# Crear una db en memoria\n",
    "Se pueden traer todos los datos del dataset y hacer consultas directamente en memoria."
   ]
  },
  {
   "cell_type": "code",
   "execution_count": 34,
   "metadata": {},
   "outputs": [],
   "source": [
    "duckdb.sql(\"\"\"\n",
    "    CREATE TABLE randat_mem AS\n",
    "    SELECT * \n",
    "    FROM parquet_scan('s3://randata/*/*/*.parquet', hive_partitioning=1);\n",
    "\"\"\")"
   ]
  },
  {
   "cell_type": "code",
   "execution_count": 35,
   "metadata": {},
   "outputs": [
    {
     "data": {
      "text/plain": [
       "┌──────────────┐\n",
       "│ count_star() │\n",
       "│    int64     │\n",
       "├──────────────┤\n",
       "│          327 │\n",
       "└──────────────┘"
      ]
     },
     "execution_count": 35,
     "metadata": {},
     "output_type": "execute_result"
    }
   ],
   "source": [
    "duckdb.sql(\"\"\"\n",
    "    SELECT count(*) from randat_mem WHERE valor>0.99;\n",
    "\"\"\")"
   ]
  },
  {
   "cell_type": "code",
   "execution_count": 43,
   "metadata": {},
   "outputs": [
    {
     "data": {
      "text/plain": [
       "┌────────────┬──────────┬───────┬────────────┬─────────┬───────┬───────┐\n",
       "│     ts     │ cantidad │ hour  │   valor    │  tipo   │  day  │ month │\n",
       "│    date    │  int32   │ int32 │   float    │ varchar │ int64 │ int64 │\n",
       "├────────────┼──────────┼───────┼────────────┼─────────┼───────┼───────┤\n",
       "│ 2023-05-28 │       32 │     1 │ 0.99896485 │ bbb     │    28 │     5 │\n",
       "│ 2023-05-28 │       58 │     2 │  0.9984177 │ bbb     │    28 │     5 │\n",
       "│ 2023-05-28 │       17 │    13 │  0.9906464 │ bbb     │    28 │     5 │\n",
       "│ 2023-05-28 │       48 │    14 │  0.9926076 │ bbb     │    28 │     5 │\n",
       "│ 2023-05-28 │       73 │    17 │   0.998972 │ bbb     │    28 │     5 │\n",
       "│ 2023-05-28 │       35 │    21 │  0.9903448 │ bbb     │    28 │     5 │\n",
       "│ 2023-05-28 │       45 │    21 │  0.9901861 │ bbb     │    28 │     5 │\n",
       "│ 2023-05-28 │       28 │    21 │  0.9922164 │ bbb     │    28 │     5 │\n",
       "│ 2023-05-28 │       24 │    22 │   0.993563 │ bbb     │    28 │     5 │\n",
       "│ 2023-05-29 │       49 │     0 │  0.9903087 │ bbb     │    29 │     5 │\n",
       "│     ·      │        · │     · │      ·     │  ·      │     · │     · │\n",
       "│     ·      │        · │     · │      ·     │  ·      │     · │     · │\n",
       "│     ·      │        · │     · │      ·     │  ·      │     · │     · │\n",
       "│ 2023-06-04 │       70 │    13 │  0.9993888 │ bbb     │     4 │     6 │\n",
       "│ 2023-06-04 │       34 │    19 │   0.997649 │ bbb     │     4 │     6 │\n",
       "│ 2023-06-04 │       18 │    21 │  0.9972715 │ bbb     │     4 │     6 │\n",
       "│ 2023-06-04 │       35 │    22 │  0.9960679 │ bbb     │     4 │     6 │\n",
       "│ 2023-06-04 │       22 │    23 │  0.9966168 │ bbb     │     4 │     6 │\n",
       "│ 2023-06-05 │       47 │     2 │  0.9968144 │ bbb     │     5 │     6 │\n",
       "│ 2023-06-05 │       57 │     6 │ 0.99809325 │ bbb     │     5 │     6 │\n",
       "│ 2023-06-05 │       25 │     9 │   0.991887 │ bbb     │     5 │     6 │\n",
       "│ 2023-06-05 │       20 │    23 │  0.9971271 │ bbb     │     5 │     6 │\n",
       "│ 2023-06-06 │       76 │     0 │  0.9955601 │ bbb     │     6 │     6 │\n",
       "├────────────┴──────────┴───────┴────────────┴─────────┴───────┴───────┤\n",
       "│ 80 rows (20 shown)                                         7 columns │\n",
       "└──────────────────────────────────────────────────────────────────────┘"
      ]
     },
     "execution_count": 43,
     "metadata": {},
     "output_type": "execute_result"
    }
   ],
   "source": [
    "duckdb.sql(\"\"\"\n",
    "    SELECT * \n",
    "    FROM randat_mem\n",
    "    WHERE valor > 0.99 AND tipo = 'bbb';\n",
    "\"\"\")"
   ]
  },
  {
   "cell_type": "markdown",
   "metadata": {},
   "source": [
    "# Nuevos datos\n",
    "Si estamos en un escenario donde entran nuevos datos, la db en memoria puede quedar desactualizada, y hacer un escaneo directo de los parquets aunque es mas lento va a tener datos mas frescos."
   ]
  },
  {
   "cell_type": "code",
   "execution_count": 45,
   "metadata": {},
   "outputs": [
    {
     "data": {
      "text/plain": [
       "┌────────────┬──────────┬───────┬────────────┬─────────┬───────┬───────┐\n",
       "│     ts     │ cantidad │ hour  │   valor    │  tipo   │  day  │ month │\n",
       "│    date    │  int32   │ int32 │   float    │ varchar │ int64 │ int64 │\n",
       "├────────────┼──────────┼───────┼────────────┼─────────┼───────┼───────┤\n",
       "│ 2023-05-28 │       32 │     1 │ 0.99896485 │ bbb     │    28 │     5 │\n",
       "│ 2023-05-28 │       58 │     2 │  0.9984177 │ bbb     │    28 │     5 │\n",
       "│ 2023-05-28 │       17 │    13 │  0.9906464 │ bbb     │    28 │     5 │\n",
       "│ 2023-05-28 │       48 │    14 │  0.9926076 │ bbb     │    28 │     5 │\n",
       "│ 2023-05-28 │       73 │    17 │   0.998972 │ bbb     │    28 │     5 │\n",
       "│ 2023-05-28 │       35 │    21 │  0.9903448 │ bbb     │    28 │     5 │\n",
       "│ 2023-05-28 │       45 │    21 │  0.9901861 │ bbb     │    28 │     5 │\n",
       "│ 2023-05-28 │       28 │    21 │  0.9922164 │ bbb     │    28 │     5 │\n",
       "│ 2023-05-28 │       24 │    22 │   0.993563 │ bbb     │    28 │     5 │\n",
       "│ 2023-05-29 │       49 │     0 │  0.9903087 │ bbb     │    29 │     5 │\n",
       "│     ·      │        · │     · │      ·     │  ·      │     · │     · │\n",
       "│     ·      │        · │     · │      ·     │  ·      │     · │     · │\n",
       "│     ·      │        · │     · │      ·     │  ·      │     · │     · │\n",
       "│ 2023-06-04 │       18 │    21 │  0.9972715 │ bbb     │     4 │     6 │\n",
       "│ 2023-06-04 │       35 │    22 │  0.9960679 │ bbb     │     4 │     6 │\n",
       "│ 2023-06-04 │       22 │    23 │  0.9966168 │ bbb     │     4 │     6 │\n",
       "│ 2023-06-05 │       47 │     2 │  0.9968144 │ bbb     │     5 │     6 │\n",
       "│ 2023-06-05 │       57 │     6 │ 0.99809325 │ bbb     │     5 │     6 │\n",
       "│ 2023-06-05 │       25 │     9 │   0.991887 │ bbb     │     5 │     6 │\n",
       "│ 2023-06-05 │       20 │    23 │  0.9971271 │ bbb     │     5 │     6 │\n",
       "│ 2023-06-06 │       52 │     0 │  0.9979015 │ bbb     │     6 │     6 │\n",
       "│ 2023-06-06 │        1 │     1 │  0.9959172 │ bbb     │     6 │     6 │\n",
       "│ 2023-06-06 │       40 │     4 │  0.9945047 │ bbb     │     6 │     6 │\n",
       "├────────────┴──────────┴───────┴────────────┴─────────┴───────┴───────┤\n",
       "│ 82 rows (20 shown)                                         7 columns │\n",
       "└──────────────────────────────────────────────────────────────────────┘"
      ]
     },
     "execution_count": 45,
     "metadata": {},
     "output_type": "execute_result"
    }
   ],
   "source": [
    "duckdb.sql(\"\"\"\n",
    "    SELECT * \n",
    "    FROM parquet_scan('s3://randata/*/*/*.parquet', hive_partitioning=1)\n",
    "    WHERE valor > 0.99 AND tipo = 'bbb';\n",
    "\"\"\")"
   ]
  },
  {
   "cell_type": "code",
   "execution_count": null,
   "metadata": {},
   "outputs": [],
   "source": []
  }
 ],
 "metadata": {
  "kernelspec": {
   "display_name": "duk",
   "language": "python",
   "name": "python3"
  },
  "language_info": {
   "codemirror_mode": {
    "name": "ipython",
    "version": 3
   },
   "file_extension": ".py",
   "mimetype": "text/x-python",
   "name": "python",
   "nbconvert_exporter": "python",
   "pygments_lexer": "ipython3",
   "version": "3.9.14"
  }
 },
 "nbformat": 4,
 "nbformat_minor": 2
}
