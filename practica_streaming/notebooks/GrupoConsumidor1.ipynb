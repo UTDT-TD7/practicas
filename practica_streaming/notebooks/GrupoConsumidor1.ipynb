{
 "cells": [
  {
   "cell_type": "markdown",
   "id": "5077e3b4-6ae7-48b3-8b2f-e42155ea760b",
   "metadata": {},
   "source": [
    "Notebook para probar la recepción de mensajes con grupos."
   ]
  },
  {
   "cell_type": "code",
   "execution_count": 3,
   "id": "a6873774-179e-462d-9e0e-b32754c42eb3",
   "metadata": {},
   "outputs": [],
   "source": [
    "from kafka import KafkaConsumer\n",
    "SERVER = \"kafka_b:9094\"\n",
    "\n",
    "group_consumer1 = KafkaConsumer(\n",
    "    \"metrics\", \n",
    "    group_id=\"spice1\",\n",
    "    bootstrap_servers=SERVER,\n",
    "    client_id=\"client2\",\n",
    ")\n"
   ]
  },
  {
   "cell_type": "code",
   "execution_count": null,
   "id": "2c1882d6-6a9f-4b43-a344-e4844f4dbbc3",
   "metadata": {},
   "outputs": [],
   "source": [
    "for msg in group_consumer1:\n",
    "    print(msg)"
   ]
  },
  {
   "cell_type": "markdown",
   "id": "6f0ce4b5-3e27-4e7c-b613-7b6149fba1c9",
   "metadata": {},
   "source": [
    "¡Luego hacer un reset del kernel para perder la conexión y fijarse qué pasa en el otro notebook!"
   ]
  }
 ],
 "metadata": {
  "kernelspec": {
   "display_name": "Python 3 (ipykernel)",
   "language": "python",
   "name": "python3"
  },
  "language_info": {
   "codemirror_mode": {
    "name": "ipython",
    "version": 3
   },
   "file_extension": ".py",
   "mimetype": "text/x-python",
   "name": "python",
   "nbconvert_exporter": "python",
   "pygments_lexer": "ipython3",
   "version": "3.11.9"
  }
 },
 "nbformat": 4,
 "nbformat_minor": 5
}
