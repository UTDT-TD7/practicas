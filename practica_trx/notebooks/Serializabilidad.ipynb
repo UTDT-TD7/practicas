{
 "cells": [
  {
   "cell_type": "markdown",
   "id": "abe30682-e393-4c23-bf65-4357fcc9687a",
   "metadata": {},
   "source": [
    "# Serializabilidad\n",
    "\n",
    "## Indicar, para cada secuencia, si es serializable por conflictos\n",
    "\n",
    "0. $R_{T_1}(A); R_{T_1}(B); R_{T_2}(B); R_{T_2}(B);$\n",
    "1. $R_{T_1}(B); W_{T_1}(B);$\n",
    "2. $R_{T_1}(A); W_{T_2}(B); R_{T_1}(A); R_{T_1}(B); W_{T_2}(C);$\n",
    "3. $W_{T_1}(A); R_{T_2}(A); W_{T_3}(A);$\n",
    "4. $R_{T_1}(X); R_{T_2}(X); W_{T_1}(Y); R_{T_3}(Y); R_{T_2}(Y); W_{T_2}(X); R_{T_3}(W); W_{T_3}(Y); R_{T_4}(W); R_{T_4}(Z); W_{T_4}(W); R_{T_1}(Z); W_{T_1}(Z);$\n",
    "5. $W_{T_1}(A); W_{T_3}(B); R_{T_2}(A); W_{T_3}(A); R_{T_1}(A)$\n",
    "6. $W_{T_3}(A); R_{T_1}(A); R_{T_2}(B); R_{T_1}(C); W_{T_2}(A); W_{T_2}(B); W_{T_2}(C); R_{T_1}(A); R_{T_1}(B); R_{T_1}(C); W_{T_3}(C);$"
   ]
  },
  {
   "cell_type": "code",
   "execution_count": null,
   "id": "a1a6a362-e437-4d01-802b-30cf8205414c",
   "metadata": {},
   "outputs": [],
   "source": []
  }
 ],
 "metadata": {
  "kernelspec": {
   "display_name": "Python 3 (ipykernel)",
   "language": "python",
   "name": "python3"
  },
  "language_info": {
   "codemirror_mode": {
    "name": "ipython",
    "version": 3
   },
   "file_extension": ".py",
   "mimetype": "text/x-python",
   "name": "python",
   "nbconvert_exporter": "python",
   "pygments_lexer": "ipython3",
   "version": "3.11.9"
  }
 },
 "nbformat": 4,
 "nbformat_minor": 5
}
