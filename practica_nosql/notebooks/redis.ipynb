{
 "cells": [
  {
   "cell_type": "markdown",
   "id": "b3b99e83-612a-4f09-847f-fb9264f32edc",
   "metadata": {},
   "source": [
    "# Redis\n",
    "\n",
    "[redis](https://redis.io) (Remote Dictionary Server) es un almacenamiento in-memory utilizado como una base de datos de pares clave-valor, cache y broker de mensajes.\n",
    "\n",
    "Se puede configurar para que sea durable, pero todos los datos se mantienen en memoria. Esto lo hace útil para la stream layer de una arquitectura lambda o, en lineas generales, como hot storage."
   ]
  },
  {
   "cell_type": "code",
   "execution_count": null,
   "id": "27012fbc-fd59-4e48-b65e-edbd5d96d975",
   "metadata": {},
   "outputs": [],
   "source": [
    "import redis\n",
    "r = redis.Redis(\n",
    "    host='redis',\n",
    "    username=\"default\",\n",
    "    password=\"redis\",\n",
    "    port=6379,\n",
    "    decode_responses=True,\n",
    "    ssl=False\n",
    ")"
   ]
  },
  {
   "cell_type": "code",
   "execution_count": null,
   "id": "5791b5ed-2fea-4102-a63f-6260da1ff805",
   "metadata": {},
   "outputs": [],
   "source": [
    "r.ping()"
   ]
  },
  {
   "cell_type": "markdown",
   "id": "bbaeb158-f91e-4b9d-b62b-308ed44b3c3f",
   "metadata": {},
   "source": [
    "# Almacenamiento de pares clave-valor\n",
    "\n"
   ]
  },
  {
   "cell_type": "markdown",
   "id": "2b9dad17-6c96-4611-9197-01ddea84eb02",
   "metadata": {},
   "source": [
    "Insertamos y obtenemos un par clave/valor."
   ]
  },
  {
   "cell_type": "code",
   "execution_count": null,
   "id": "dd6a0375-0fe3-4609-849a-c16061ffc135",
   "metadata": {},
   "outputs": [],
   "source": [
    "r.set(\"k1\", \"v1\")\n",
    "r.get(\"k1\")"
   ]
  },
  {
   "cell_type": "code",
   "execution_count": null,
   "id": "9a89f42a-5d30-4c4d-8805-453035a188ff",
   "metadata": {},
   "outputs": [],
   "source": [
    "r.exists(\"k1\")"
   ]
  },
  {
   "cell_type": "code",
   "execution_count": null,
   "id": "3fdf7987-3439-4d1b-b94c-b963437ca8a0",
   "metadata": {},
   "outputs": [],
   "source": [
    "r.set(\"k1\", \"v100\")\n",
    "r.get(\"k1\")"
   ]
  },
  {
   "cell_type": "markdown",
   "id": "476319b7-eb54-42b0-8639-94582f19ce4e",
   "metadata": {},
   "source": [
    "Podemos darle un TTL a las claves."
   ]
  },
  {
   "cell_type": "code",
   "execution_count": null,
   "id": "151bb8ab-2783-45d2-a3f5-0bfc24ecd8a4",
   "metadata": {},
   "outputs": [],
   "source": [
    "import time\n",
    "from datetime import datetime\n",
    "\n",
    "r.setex(\"ttl10\", 10, \"dead key\")\n",
    "print(f\"set at {datetime.now()}\")\n",
    "time.sleep(5)\n",
    "print(f\"get at {datetime.now()}: {r.get('ttl10')}\")\n",
    "time.sleep(6)\n",
    "print(f\"get at {datetime.now()}: {r.get('ttl10')}\")"
   ]
  },
  {
   "cell_type": "code",
   "execution_count": null,
   "id": "c87d0605-c385-4401-b2c4-49fc8966c394",
   "metadata": {},
   "outputs": [],
   "source": [
    "r.setex(\"ttl10\", 10, \"dead key\")\n",
    "r.ttl(\"ttl10\")"
   ]
  },
  {
   "cell_type": "markdown",
   "id": "b130af03-1e56-4723-b797-70d1b19c5408",
   "metadata": {},
   "source": [
    "Podemos insertar todos los pares de clave/valor de un diccionario"
   ]
  },
  {
   "cell_type": "code",
   "execution_count": null,
   "id": "7b837327-a076-4b3f-bf3b-30cf7729cbd7",
   "metadata": {},
   "outputs": [],
   "source": [
    "r.mset({\n",
    "    \"k1\":1,\n",
    "    \"k2\":2,\n",
    "    \"k3\":3\n",
    "})\n",
    "r.get(\"k1\"), r.get(\"k2\"), r.get(\"k3\")"
   ]
  },
  {
   "cell_type": "markdown",
   "id": "bbdd86fa-873a-441b-8a44-be71b4418392",
   "metadata": {},
   "source": [
    "O, mas facil:"
   ]
  },
  {
   "cell_type": "code",
   "execution_count": null,
   "id": "5c619eaa-7a84-4191-bcf9-da404ee9442c",
   "metadata": {},
   "outputs": [],
   "source": [
    "r.mget(\"k1\", \"k2\", \"k3\")"
   ]
  },
  {
   "cell_type": "markdown",
   "id": "06e3df33-20e4-43f6-a097-201fcfe910eb",
   "metadata": {},
   "source": [
    "## Ejercicios\n",
    "Leyendo la [documentación](https://redis.readthedocs.io/en/stable/commands.html):\n",
    "\n",
    "1. Inserte una clave `ej:1:key1` con valor `100`\n",
    "2. Disminuzca en 10 el valor de la clave del punto 1\n",
    "3. Agregue expiración de 30 segundos a la clave del punto 1\n",
    "4. Obtenga la clave del punto 1 y actualice su TTL por 60 segundos en una sola operación\n",
    "5. Insertar las claves `ejercicio:1:key2` y `ej:5:key1`. Listar todas las claves que comienzan con el prefijo `ej:`.\n",
    "6. Cree una lista bajo la clave `ej:6:clientes` e inserte los valores 1, 2 y 3 en una operación cada uno. Elimine el elemento a izquierda e inserte a izquierda el valor 0.\n",
    "7. Cree un hash bajo la clave `ej:7:keyhash` e inserte `{'a':1, 'b':2}`"
   ]
  },
  {
   "cell_type": "markdown",
   "id": "1f7aa41e-a5e3-4ae9-a78d-88557a6cc869",
   "metadata": {},
   "source": [
    "# PubSub"
   ]
  },
  {
   "cell_type": "code",
   "execution_count": null,
   "id": "39bb33e2-c53d-44da-bcc6-088057c95e61",
   "metadata": {},
   "outputs": [],
   "source": [
    "p = r.pubsub(ignore_subscribe_messages=True)\n",
    "p.subscribe('channel1')\n",
    "p.get_message()"
   ]
  },
  {
   "cell_type": "code",
   "execution_count": null,
   "id": "dbf5d8e4-8e5b-4ffb-89b4-2e9ea875fbb2",
   "metadata": {},
   "outputs": [],
   "source": [
    "r.publish(\"channel1\", 100)"
   ]
  },
  {
   "cell_type": "code",
   "execution_count": null,
   "id": "6998d829-9396-44c1-86c2-437f2b0af44d",
   "metadata": {},
   "outputs": [],
   "source": [
    "p.get_message()"
   ]
  },
  {
   "cell_type": "code",
   "execution_count": null,
   "id": "4fcc8fcc-d687-49c5-8cd3-13584fb9d213",
   "metadata": {},
   "outputs": [],
   "source": [
    "r.publish(\"channel2\", 200)"
   ]
  },
  {
   "cell_type": "code",
   "execution_count": null,
   "id": "a1aa65ce-57c3-4b13-9e62-33a074795102",
   "metadata": {},
   "outputs": [],
   "source": [
    "p.get_message()"
   ]
  },
  {
   "cell_type": "code",
   "execution_count": null,
   "id": "fdc31944-a7c9-4c9e-8489-41638788ab9b",
   "metadata": {},
   "outputs": [],
   "source": [
    "p.psubscribe(\"channel*\")"
   ]
  },
  {
   "cell_type": "code",
   "execution_count": null,
   "id": "bd624cd0-27c1-489c-83d4-91ce3a666182",
   "metadata": {},
   "outputs": [],
   "source": [
    "r.publish(\"channel5\", 200)"
   ]
  },
  {
   "cell_type": "code",
   "execution_count": null,
   "id": "0364339d-6179-4f90-85b1-2822f19ee112",
   "metadata": {},
   "outputs": [],
   "source": [
    "p.get_message()"
   ]
  },
  {
   "cell_type": "markdown",
   "id": "734e89b7-11ec-4ca9-acd9-8132933cab2b",
   "metadata": {},
   "source": [
    "Y para correrlo en un event loop:"
   ]
  },
  {
   "cell_type": "code",
   "execution_count": null,
   "id": "85cf99f7-d6e8-4bbb-8eb6-5ee5db02de44",
   "metadata": {},
   "outputs": [],
   "source": [
    "p = r.pubsub(ignore_subscribe_messages=True)\n",
    "\n",
    "def message_handler(m: dict):\n",
    "    if int(m[\"data\"]) > 100:\n",
    "        print(f\"handler: {m}\")\n",
    "\n",
    "p.psubscribe(**{\"channel*\":message_handler})\n",
    "thread = p.run_in_thread()"
   ]
  },
  {
   "cell_type": "code",
   "execution_count": null,
   "id": "07e6ca67-5f98-433d-bf39-4007c5d10994",
   "metadata": {},
   "outputs": [],
   "source": [
    "r.publish(\"channel1\", 1000)"
   ]
  },
  {
   "cell_type": "code",
   "execution_count": null,
   "id": "5675406e-1520-4a0f-b792-9fa0aa22ace9",
   "metadata": {},
   "outputs": [],
   "source": [
    "r.publish(\"channel1\", 10)"
   ]
  },
  {
   "cell_type": "code",
   "execution_count": null,
   "id": "4cb142d7-c747-4420-b399-b11672214ea2",
   "metadata": {},
   "outputs": [],
   "source": [
    "r.publish(\"channelx\", 500)"
   ]
  },
  {
   "cell_type": "markdown",
   "id": "5e4286d5-14eb-4554-a524-0f30527d0a79",
   "metadata": {},
   "source": [
    "Every message read from a PubSub instance will be a dictionary with the following keys.\n",
    "\n",
    "type: One of the following: ‘subscribe’, ‘unsubscribe’, ‘psubscribe’, ‘punsubscribe’, ‘message’, ‘pmessage’\n",
    "\n",
    "channel: The channel [un]subscribed to or the channel a message was published to\n",
    "\n",
    "pattern: The pattern that matched a published message’s channel. Will be None in all cases except for ‘pmessage’ types.\n",
    "\n",
    "data: The message data. With [un]subscribe messages, this value will be the number of channels and patterns the connection is currently subscribed to. With [p]message messages, this value will be the actual published message."
   ]
  },
  {
   "cell_type": "markdown",
   "id": "79504074-6ce9-4aba-a85e-85e06f5b537c",
   "metadata": {},
   "source": [
    "## Ejercicios\n",
    "1. Tenemos un stream de datos que vuelca valores enteros en Redis a través de un modelo pub/sub. Queremos conocer el promedio de ese stream en tiempo real. Complete el código a continuación para que cada 10_000 elementos insertados, el handler imprima el promedio hasta ese momento."
   ]
  },
  {
   "cell_type": "code",
   "execution_count": null,
   "id": "b384fb12-c6ae-4b07-a2c1-4a9ff4eefffe",
   "metadata": {},
   "outputs": [],
   "source": [
    "import random\n",
    "from itertools import count\n",
    "\n",
    "p = r.pubsub(ignore_subscribe_messages=True)\n",
    "\n",
    "def message_handler(m: dict):\n",
    "    ...\n",
    "\n",
    "p.psubscribe(**{\"*\":message_handler})\n",
    "\n",
    "thread = p.run_in_thread()\n",
    "\n",
    "for t in count():\n",
    "    x = random.randint(1, 1000)\n",
    "    r.publish(\"ej:pubsub\", x)"
   ]
  },
  {
   "cell_type": "markdown",
   "id": "05127c00-0b1d-4508-aaca-7ef5f7e74a5e",
   "metadata": {},
   "source": [
    "# Modulos extra\n",
    "## RedisBloom\n",
    "- Bloom filter: saber rápidamente si un elemento está presente en un set\n",
    "- Cuckoo filter: alternativa a bloom filter que permite eliminar elementos de un set\n",
    "- Count-Min Sketch: calcular frecuencia de eventos\n",
    "- Top-K: Aproximar frecuencias aproximadas de los top-k items\n",
    "\n",
    "## RedisGraph (EOL)\n",
    "Database de grafos de propiedades.\n",
    "\n",
    "## RedisJSON\n",
    "Permite trabajar fácilmente con documentos JSON. \n",
    "\n",
    "## RediSearch\n",
    "Para busqueda y consultas sobre datos en Redis.\n",
    "- Document database\n",
    "- Vector database\n",
    "- Secondary index\n",
    "- Search engine\n",
    "\n",
    "## RedisTimeSeries\n",
    "Trabajar con time series desde redis. Cada serie de tiempo vive bajo su propia clave."
   ]
  },
  {
   "cell_type": "markdown",
   "id": "d13c5e76-1fbd-48f3-8e0f-60984f46d9c7",
   "metadata": {},
   "source": [
    "# References\n",
    "- https://redis.io/docs/latest/develop/connect/clients/python/\n",
    "- https://redis.readthedocs.io/en/stable/redismodules.html\n",
    "- https://redis.io/blog/beyond-the-cache-with-python/"
   ]
  }
 ],
 "metadata": {
  "kernelspec": {
   "display_name": "Python 3 (ipykernel)",
   "language": "python",
   "name": "python3"
  },
  "language_info": {
   "codemirror_mode": {
    "name": "ipython",
    "version": 3
   },
   "file_extension": ".py",
   "mimetype": "text/x-python",
   "name": "python",
   "nbconvert_exporter": "python",
   "pygments_lexer": "ipython3",
   "version": "3.11.9"
  }
 },
 "nbformat": 4,
 "nbformat_minor": 5
}
