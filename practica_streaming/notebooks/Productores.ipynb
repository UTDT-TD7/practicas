{
 "cells": [
  {
   "cell_type": "code",
   "execution_count": 1,
   "metadata": {},
   "outputs": [],
   "source": [
    "import logging\n",
    "logging.basicConfig(level=logging.ERROR)\n"
   ]
  },
  {
   "attachments": {},
   "cell_type": "markdown",
   "metadata": {},
   "source": [
    "## Introducción: productores y consumidores usando tópicos"
   ]
  },
  {
   "cell_type": "code",
   "execution_count": 1,
   "metadata": {},
   "outputs": [],
   "source": [
    "from kafka import KafkaProducer\n",
    "SERVER  = \"kafka_b:9094\"\n",
    "producer = KafkaProducer(bootstrap_servers=SERVER)"
   ]
  },
  {
   "cell_type": "markdown",
   "metadata": {},
   "source": [
    "Enviemos un mensaje al tópico website_events:"
   ]
  },
  {
   "cell_type": "code",
   "execution_count": 18,
   "metadata": {},
   "outputs": [
    {
     "data": {
      "text/plain": [
       "<kafka.producer.future.FutureRecordMetadata at 0x7fa43c51ef90>"
      ]
     },
     "execution_count": 18,
     "metadata": {},
     "output_type": "execute_result"
    }
   ],
   "source": [
    "future = producer.send(\n",
    "    \"website_events\", \n",
    "    b\"{'type': 'click', 'location': '/index.html'}\"\n",
    ")\n",
    "# Alternativamente: \"{'type': 'view', 'location': '/index.html'}\".encode(\"utf-8\")\n",
    "\n",
    "future"
   ]
  },
  {
   "cell_type": "markdown",
   "metadata": {},
   "source": [
    "¡Devuelve un futuro! Ni el envío es bloqueante para el productor. \n",
    "Inspeccionemos un rato más tarde la información generada:"
   ]
  },
  {
   "cell_type": "code",
   "execution_count": 20,
   "metadata": {},
   "outputs": [
    {
     "data": {
      "text/plain": [
       "RecordMetadata(topic='website_events', partition=0, topic_partition=TopicPartition(topic='website_events', partition=0), offset=65, timestamp=1719276316091, log_start_offset=0, checksum=None, serialized_key_size=-1, serialized_value_size=44, serialized_header_size=-1)"
      ]
     },
     "execution_count": 20,
     "metadata": {},
     "output_type": "execute_result"
    }
   ],
   "source": [
    "future.get()"
   ]
  },
  {
   "cell_type": "markdown",
   "metadata": {},
   "source": [
    "Enviemos cinco mensajes:\n"
   ]
  },
  {
   "cell_type": "code",
   "execution_count": 6,
   "metadata": {},
   "outputs": [],
   "source": [
    "import json\n",
    "\n",
    "json_encoder = json.JSONEncoder()\n",
    "\n",
    "for _ in range(5):\n",
    "    producer.send(\n",
    "        \"website_events\", \n",
    "        json_encoder.encode(\n",
    "            dict(type=\"click\", location=\"/index.html\")\n",
    "        ).encode(\"utf-8\")\n",
    "    )"
   ]
  },
  {
   "cell_type": "markdown",
   "metadata": {},
   "source": [
    "## Envío usando particiones"
   ]
  },
  {
   "cell_type": "code",
   "execution_count": 2,
   "metadata": {},
   "outputs": [],
   "source": [
    "def partitioner(key_bytes, all_partitions, available_partitions):\n",
    "    partition = all_partitions[int(key_bytes.decode(\"utf-8\"))]\n",
    "    print(f\"From <{key_bytes}> inferred <{partition}>\")\n",
    "    print(f\"From all <{all_partitions}> and available <{available_partitions}>\")\n",
    "    return partition"
   ]
  },
  {
   "cell_type": "code",
   "execution_count": 3,
   "metadata": {},
   "outputs": [],
   "source": [
    "partition_producer = KafkaProducer(\n",
    "    bootstrap_servers=SERVER,\n",
    "    partitioner=partitioner,\n",
    ")"
   ]
  },
  {
   "cell_type": "markdown",
   "metadata": {},
   "source": [
    "Enviemos datos a particiones explícitamente, para entender el manejo de particiones:"
   ]
  },
  {
   "cell_type": "code",
   "execution_count": 19,
   "metadata": {},
   "outputs": [
    {
     "name": "stdout",
     "output_type": "stream",
     "text": [
      "From <b'0'> inferred <0>\n",
      "From all <[0, 1]> and available <[0, 1]>\n"
     ]
    },
    {
     "data": {
      "text/plain": [
       "<kafka.producer.future.FutureRecordMetadata at 0x7f8705e8e150>"
      ]
     },
     "execution_count": 19,
     "metadata": {},
     "output_type": "execute_result"
    }
   ],
   "source": [
    "partition_producer.send(\n",
    "    \"metrics\",\n",
    "    key=b'0',\n",
    "    value=b\"hola\"\n",
    ")"
   ]
  },
  {
   "cell_type": "code",
   "execution_count": 30,
   "metadata": {},
   "outputs": [
    {
     "name": "stdout",
     "output_type": "stream",
     "text": [
      "From <b'1'> inferred <1>\n",
      "From all <[0, 1]> and available <[0, 1]>\n"
     ]
    },
    {
     "data": {
      "text/plain": [
       "<kafka.producer.future.FutureRecordMetadata at 0x7f8705e96210>"
      ]
     },
     "execution_count": 30,
     "metadata": {},
     "output_type": "execute_result"
    }
   ],
   "source": [
    "partition_producer.send(\n",
    "    \"metrics\",\n",
    "    key=b'1',\n",
    "    value=b\"mundo\"\n",
    ")"
   ]
  }
 ],
 "metadata": {
  "kernelspec": {
   "display_name": "Python 3 (ipykernel)",
   "language": "python",
   "name": "python3"
  },
  "language_info": {
   "codemirror_mode": {
    "name": "ipython",
    "version": 3
   },
   "file_extension": ".py",
   "mimetype": "text/x-python",
   "name": "python",
   "nbconvert_exporter": "python",
   "pygments_lexer": "ipython3",
   "version": "3.11.9"
  }
 },
 "nbformat": 4,
 "nbformat_minor": 4
}
