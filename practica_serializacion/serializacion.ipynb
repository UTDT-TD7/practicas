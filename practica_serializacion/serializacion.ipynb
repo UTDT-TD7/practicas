{
 "cells": [
  {
   "cell_type": "code",
   "execution_count": 147,
   "metadata": {},
   "outputs": [],
   "source": [
    "import pandas as pd\n",
    "import time\n",
    "import boto3\n",
    "from io import StringIO, BytesIO\n",
    "import matplotlib.pyplot as plt\n",
    "from fastavro import writer, parse_schema, reader\n",
    "import pyarrow.parquet as pq\n",
    "import pyarrow as pa\n",
    "import datetime as dt"
   ]
  },
  {
   "cell_type": "markdown",
   "metadata": {},
   "source": [
    "# Serializacion\n",
    "\n",
    "Vamos analizar diferentes formatos de datos. Para esto los vamos a escribir y leer de un almacenamiento distribuido usando [minio](https://min.io/) un FOSS object store compatible con S3.\n",
    "\n",
    "Estos formatos se pueden usar tanto para persistir los datos en el master dataset de una arquitectura lambda como para transferir informacion en su speed layer."
   ]
  },
  {
   "cell_type": "markdown",
   "metadata": {},
   "source": [
    "# Crear el bucket y traer los datos de prueba\n",
    "\n",
    "Corriendo run_minio.sh se va a levantar un contenedor de docker con minio. Va a bindear el puerto 9000 a la api, y en el puerto 9090 podemos acceder a la ui web. Los datos se van a persistir en un volumen (./minio_data)."
   ]
  },
  {
   "cell_type": "code",
   "execution_count": 2,
   "metadata": {},
   "outputs": [],
   "source": [
    "# https://boto3.amazonaws.com/v1/documentation/api/latest/reference/services/s3.html\n",
    "s3 = boto3.client('s3',\n",
    "                  endpoint_url='http://localhost:9000',\n",
    "                  aws_access_key_id='catedra',\n",
    "                  aws_secret_access_key='catedrapass')"
   ]
  },
  {
   "cell_type": "code",
   "execution_count": 3,
   "metadata": {},
   "outputs": [],
   "source": [
    "fvehicular_bucket = 'flujovehicular'\n",
    "if fvehicular_bucket not in [b[\"Name\"] for b in s3.list_buckets()['Buckets']]:\n",
    "    s3.create_bucket(Bucket=fvehicular_bucket)"
   ]
  },
  {
   "cell_type": "code",
   "execution_count": 4,
   "metadata": {},
   "outputs": [
    {
     "data": {
      "text/html": [
       "<div>\n",
       "<style scoped>\n",
       "    .dataframe tbody tr th:only-of-type {\n",
       "        vertical-align: middle;\n",
       "    }\n",
       "\n",
       "    .dataframe tbody tr th {\n",
       "        vertical-align: top;\n",
       "    }\n",
       "\n",
       "    .dataframe thead th {\n",
       "        text-align: right;\n",
       "    }\n",
       "</style>\n",
       "<table border=\"1\" class=\"dataframe\">\n",
       "  <thead>\n",
       "    <tr style=\"text-align: right;\">\n",
       "      <th></th>\n",
       "      <th>CODIGO_LOCACION</th>\n",
       "      <th>HORA</th>\n",
       "      <th>CANTIDAD</th>\n",
       "      <th>SENTIDO</th>\n",
       "      <th>LATITUD</th>\n",
       "      <th>LONGITUD</th>\n",
       "    </tr>\n",
       "  </thead>\n",
       "  <tbody>\n",
       "    <tr>\n",
       "      <th>0</th>\n",
       "      <td>48Q3CJ00+</td>\n",
       "      <td>2020-03-31 15:00:00</td>\n",
       "      <td>729</td>\n",
       "      <td>Interna</td>\n",
       "      <td>-34.588796</td>\n",
       "      <td>-58.381520</td>\n",
       "    </tr>\n",
       "    <tr>\n",
       "      <th>1</th>\n",
       "      <td>48Q3CJ00+</td>\n",
       "      <td>2020-03-31 15:00:00</td>\n",
       "      <td>447</td>\n",
       "      <td>Egreso</td>\n",
       "      <td>-34.588796</td>\n",
       "      <td>-58.381520</td>\n",
       "    </tr>\n",
       "    <tr>\n",
       "      <th>2</th>\n",
       "      <td>48Q39G00+</td>\n",
       "      <td>2020-03-31 15:00:00</td>\n",
       "      <td>175</td>\n",
       "      <td>Interna</td>\n",
       "      <td>-34.633299</td>\n",
       "      <td>-58.468594</td>\n",
       "    </tr>\n",
       "    <tr>\n",
       "      <th>3</th>\n",
       "      <td>48Q39G00+</td>\n",
       "      <td>2020-03-31 15:00:00</td>\n",
       "      <td>1186</td>\n",
       "      <td>Egreso</td>\n",
       "      <td>-34.633299</td>\n",
       "      <td>-58.468594</td>\n",
       "    </tr>\n",
       "    <tr>\n",
       "      <th>4</th>\n",
       "      <td>48Q3CH00+</td>\n",
       "      <td>2020-03-31 15:00:00</td>\n",
       "      <td>35</td>\n",
       "      <td>Egreso</td>\n",
       "      <td>-34.579632</td>\n",
       "      <td>-58.427733</td>\n",
       "    </tr>\n",
       "  </tbody>\n",
       "</table>\n",
       "</div>"
      ],
      "text/plain": [
       "  CODIGO_LOCACION                HORA  CANTIDAD  SENTIDO    LATITUD   LONGITUD\n",
       "0       48Q3CJ00+ 2020-03-31 15:00:00       729  Interna -34.588796 -58.381520\n",
       "1       48Q3CJ00+ 2020-03-31 15:00:00       447   Egreso -34.588796 -58.381520\n",
       "2       48Q39G00+ 2020-03-31 15:00:00       175  Interna -34.633299 -58.468594\n",
       "3       48Q39G00+ 2020-03-31 15:00:00      1186   Egreso -34.633299 -58.468594\n",
       "4       48Q3CH00+ 2020-03-31 15:00:00        35   Egreso -34.579632 -58.427733"
      ]
     },
     "execution_count": 4,
     "metadata": {},
     "output_type": "execute_result"
    }
   ],
   "source": [
    "DATASET_URL = \"https://cdn.buenosaires.gob.ar/datosabiertos/datasets/transporte-y-obras-publicas/flujo-vehicular-anillo-digital/dataset_flujo_vehicular.csv\"\n",
    "df = pd.read_csv(DATASET_URL)\n",
    "df[\"HORA\"] = pd.to_datetime(df[\"HORA\"], format=\"%d%b%Y:%H:%M:%S\")\n",
    "df.head()"
   ]
  },
  {
   "cell_type": "markdown",
   "metadata": {},
   "source": [
    "# CSV\n",
    "\n",
    " - archivo de texto\n",
    " - orientado a filas\n",
    " - no tiene un esquema definido\n",
    " - no soporta cambios en el esquema \n",
    " - los datos estan crudos\n",
    " - solo soporta tipos de datos primitivos\n",
    " - no contempla bloques para su organizacion\n",
    " - tenes que leer todo el archivo para hacer consultas\n",
    " - puede agregar filas a archivos existentes eficientemente\n",
    " - permite la inspeccion directa de los datos\n",
    " - sirve para trabajar con conjuntos de datos que entran en memoria"
   ]
  },
  {
   "cell_type": "code",
   "execution_count": 5,
   "metadata": {},
   "outputs": [
    {
     "data": {
      "text/plain": [
       "1.729318380355835"
      ]
     },
     "execution_count": 5,
     "metadata": {},
     "output_type": "execute_result"
    }
   ],
   "source": [
    "start_time = time.time()\n",
    "with StringIO() as csv_buffer:\n",
    "    df.to_csv(csv_buffer, index=False)\n",
    "    s3.put_object(Body=csv_buffer.getvalue(), Bucket=fvehicular_bucket, Key='flujo.csv')\n",
    "csv_write_time = time.time()-start_time\n",
    "csv_write_time"
   ]
  },
  {
   "cell_type": "code",
   "execution_count": 6,
   "metadata": {},
   "outputs": [
    {
     "data": {
      "text/plain": [
       "0.32969188690185547"
      ]
     },
     "execution_count": 6,
     "metadata": {},
     "output_type": "execute_result"
    }
   ],
   "source": [
    "start_time = time.time()\n",
    "csv_object = s3.get_object(Bucket=fvehicular_bucket, Key='flujo.csv',)\n",
    "df = pd.read_csv(csv_object[\"Body\"], parse_dates=['HORA'])\n",
    "csv_read_time = time.time() -start_time\n",
    "csv_read_time"
   ]
  },
  {
   "cell_type": "code",
   "execution_count": 7,
   "metadata": {},
   "outputs": [
    {
     "data": {
      "text/plain": [
       "12109112"
      ]
     },
     "execution_count": 7,
     "metadata": {},
     "output_type": "execute_result"
    }
   ],
   "source": [
    "csv_size = csv_object[\"ContentLength\"]\n",
    "csv_size"
   ]
  },
  {
   "cell_type": "code",
   "execution_count": 8,
   "metadata": {},
   "outputs": [
    {
     "name": "stdout",
     "output_type": "stream",
     "text": [
      "CODIGO_LOCACION,HORA,CANTIDAD,SENTIDO,LATITUD,LONGITUD\n",
      "48Q3CJ00+,2020-03-31 15:00:00,729,Interna,-34.588796,-58.38152\n",
      "48Q3CJ00+,2020-03-31 15:00:00,447,Egreso,-34.588796,-58.38152\n",
      "48Q39G00+,2020-03-31 15:00:00,175,Interna,-34.633299,-58.468594\n",
      "48Q39G00+,2020-03-31 15:00:00,1186,Egreso,-34.633299,-58.468594\n",
      "48Q3CH00+,2020-03-31 15:00:00,35,Egreso,-34.579632000000004,-58.427733\n",
      "48Q3CH00+,2020-03-31 15:00:00,523,Interna,-34.579632000000004,-58.427733\n",
      "48Q39J00+,2020-03-31 15:00:00,1670,Interna,-34.60855,-58.372951\n",
      "48Q39G00+,2020-03-31 15:00:00,1235,Ingreso,-34.633299,-58.468594\n",
      "48Q39G00+,2020-03-31 14:00:00,1535,Egreso,-34.633299,-58.468594\n",
      "48Q3FG00+,2020-03-31 14:00:00,124,Interna,-34.53698,-58.470968000000006\n",
      "48Q3CJ00+,2020-03-31 14:00:00,577,Egreso,-34.588796,-58.38152\n",
      "48Q3CJ00+,2020-03-31 14:00:00,741,Interna,-34.588796,-58.38152\n",
      "48Q3CJ00+,2020-03-31 14:00:00,543,Ingreso,-34.588796,-58.38152\n",
      "48Q3CH00+,2020-03-31 14:00:00,600,Interna,-34.579632000000004,-58.427733\n",
      "48Q3CH00+,2020-03-31 14:00:00,52,Egreso,-34.57\n"
     ]
    }
   ],
   "source": [
    "csv_object_body = s3.get_object(Bucket=fvehicular_bucket, Key='flujo.csv',)[\"Body\"]\n",
    "print(next(csv_object_body).decode())"
   ]
  },
  {
   "cell_type": "code",
   "execution_count": 231,
   "metadata": {},
   "outputs": [
    {
     "data": {
      "text/plain": [
       "0.32634925842285156"
      ]
     },
     "execution_count": 231,
     "metadata": {},
     "output_type": "execute_result"
    }
   ],
   "source": [
    "start_time = time.time()\n",
    "csv_object = s3.get_object(Bucket=fvehicular_bucket, Key='flujo.csv',)\n",
    "df = pd.read_csv(csv_object[\"Body\"], parse_dates=['HORA'])\n",
    "result_df = df.query(\"CANTIDAD > 13000 & SENTIDO=='Egreso'\")\n",
    "csv_query_time = time.time() -start_time\n",
    "csv_query_time"
   ]
  },
  {
   "cell_type": "code",
   "execution_count": 120,
   "metadata": {},
   "outputs": [
    {
     "data": {
      "text/html": [
       "<div>\n",
       "<style scoped>\n",
       "    .dataframe tbody tr th:only-of-type {\n",
       "        vertical-align: middle;\n",
       "    }\n",
       "\n",
       "    .dataframe tbody tr th {\n",
       "        vertical-align: top;\n",
       "    }\n",
       "\n",
       "    .dataframe thead th {\n",
       "        text-align: right;\n",
       "    }\n",
       "</style>\n",
       "<table border=\"1\" class=\"dataframe\">\n",
       "  <thead>\n",
       "    <tr style=\"text-align: right;\">\n",
       "      <th></th>\n",
       "      <th>CODIGO_LOCACION</th>\n",
       "      <th>HORA</th>\n",
       "      <th>CANTIDAD</th>\n",
       "      <th>SENTIDO</th>\n",
       "      <th>LATITUD</th>\n",
       "      <th>LONGITUD</th>\n",
       "    </tr>\n",
       "  </thead>\n",
       "  <tbody>\n",
       "    <tr>\n",
       "      <th>5317</th>\n",
       "      <td>48Q39G00+</td>\n",
       "      <td>2020-03-10 17:00:00</td>\n",
       "      <td>13041</td>\n",
       "      <td>Egreso</td>\n",
       "      <td>-34.633299</td>\n",
       "      <td>-58.468594</td>\n",
       "    </tr>\n",
       "    <tr>\n",
       "      <th>6538</th>\n",
       "      <td>48Q39G00+</td>\n",
       "      <td>2020-03-06 17:00:00</td>\n",
       "      <td>13041</td>\n",
       "      <td>Egreso</td>\n",
       "      <td>-34.633299</td>\n",
       "      <td>-58.468594</td>\n",
       "    </tr>\n",
       "  </tbody>\n",
       "</table>\n",
       "</div>"
      ],
      "text/plain": [
       "     CODIGO_LOCACION                HORA  CANTIDAD SENTIDO    LATITUD  \\\n",
       "5317       48Q39G00+ 2020-03-10 17:00:00     13041  Egreso -34.633299   \n",
       "6538       48Q39G00+ 2020-03-06 17:00:00     13041  Egreso -34.633299   \n",
       "\n",
       "       LONGITUD  \n",
       "5317 -58.468594  \n",
       "6538 -58.468594  "
      ]
     },
     "execution_count": 120,
     "metadata": {},
     "output_type": "execute_result"
    }
   ],
   "source": [
    "result_df"
   ]
  },
  {
   "cell_type": "code",
   "execution_count": 232,
   "metadata": {},
   "outputs": [
    {
     "data": {
      "text/plain": [
       "0.3542060852050781"
      ]
     },
     "execution_count": 232,
     "metadata": {},
     "output_type": "execute_result"
    }
   ],
   "source": [
    "start_time = time.time()\n",
    "csv_object = s3.get_object(Bucket=fvehicular_bucket, Key='flujo.csv',)\n",
    "df = pd.read_csv(csv_object[\"Body\"], parse_dates=['HORA'])\n",
    "result_seq_df = df.query(\"HORA > '2020-03-10 00:00' & HORA < '2020-03-12 00:00'\")\n",
    "csv_query_seq_time = time.time() -start_time\n",
    "csv_query_seq_time"
   ]
  },
  {
   "cell_type": "code",
   "execution_count": 208,
   "metadata": {},
   "outputs": [
    {
     "data": {
      "text/plain": [
       "495"
      ]
     },
     "execution_count": 208,
     "metadata": {},
     "output_type": "execute_result"
    }
   ],
   "source": [
    "len(result_seq_df)"
   ]
  },
  {
   "cell_type": "markdown",
   "metadata": {},
   "source": [
    "# AVRO\n",
    "\n",
    " - archivo binario\n",
    " - orientado a filas\n",
    " - permite definir esquemas\n",
    " - soporta evolucion del esquema\n",
    " - ofrece opciones de compresion\n",
    " - permite definir tipos de datos\n",
    " - organiza los registros en bloques\n",
    " - permite predicate pushdown\n",
    " - puede agregar filas a archivos existentes eficientemente\n",
    " - se usa en streams como kafka o sistemas de almacenamiento distirbuido como hadoop o s3\n",
    " - *su uso no esta pensado para trabajar sobre un solo archivo\n",
    " - se enfoca en el intercambio de datos entre sistemas"
   ]
  },
  {
   "cell_type": "code",
   "execution_count": 217,
   "metadata": {},
   "outputs": [],
   "source": [
    "schema = {\n",
    "    'name': 'flujo_vehicular',\n",
    "    'type': 'record',\n",
    "    'fields': [\n",
    "       {'name': 'HORA', 'type': 'int'},\n",
    "       {'name': 'CODIGO_LOCACION', 'type': 'string'},\n",
    "    # Esta es el tipo de dato correcto, haces los archivos mas pequeños,\n",
    "    # pero la lectura y escritura mas lenta por la serializacion.\n",
    "    #    {'name': 'HORA', \n",
    "    #         'type': {\n",
    "    #             'type': 'long',\n",
    "    #             'logicalType': 'timestamp-millis',\n",
    "    #         },},\n",
    "       {'name': 'CANTIDAD', 'type': 'int'},\n",
    "       {'name': 'SENTIDO', 'type': 'string'},\n",
    "       {'name': 'LATITUD', 'type': 'float'},\n",
    "       {'name': 'LONGITUD', 'type': 'float'}\n",
    "    ]\n",
    "}\n",
    "parsed_schema = parse_schema(schema)"
   ]
  },
  {
   "cell_type": "code",
   "execution_count": 218,
   "metadata": {},
   "outputs": [],
   "source": [
    "df_avro = df.copy()\n",
    "df_avro[\"HORA\"] = (df[\"HORA\"] - dt.datetime(1970,1,1)).dt.total_seconds().astype(int)\n",
    "records = df_avro.sort_values(by=['HORA']).to_dict('records')"
   ]
  },
  {
   "cell_type": "code",
   "execution_count": 219,
   "metadata": {},
   "outputs": [
    {
     "data": {
      "text/plain": [
       "1.3344817161560059"
      ]
     },
     "execution_count": 219,
     "metadata": {},
     "output_type": "execute_result"
    }
   ],
   "source": [
    "start_time = time.time()\n",
    "with BytesIO() as avro_buffer:\n",
    "    writer(avro_buffer, parsed_schema, records)\n",
    "    s3.put_object(Body=avro_buffer.getvalue(), Bucket=fvehicular_bucket, Key='flujo.avro')\n",
    "avro_write_time = time.time()-start_time\n",
    "avro_write_time"
   ]
  },
  {
   "cell_type": "code",
   "execution_count": 245,
   "metadata": {},
   "outputs": [
    {
     "data": {
      "text/plain": [
       "1.4150042533874512"
      ]
     },
     "execution_count": 245,
     "metadata": {},
     "output_type": "execute_result"
    }
   ],
   "source": [
    "start_time = time.time()\n",
    "sb = s3.get_object(Bucket=fvehicular_bucket, Key='flujo.avro')[\"Body\"]\n",
    "avro_records = list(reader(sb))\n",
    "avro_read_time = time.time() -start_time\n",
    "avro_read_time"
   ]
  },
  {
   "cell_type": "code",
   "execution_count": 246,
   "metadata": {},
   "outputs": [
    {
     "data": {
      "text/plain": [
       "6216970"
      ]
     },
     "execution_count": 246,
     "metadata": {},
     "output_type": "execute_result"
    }
   ],
   "source": [
    "avro_size = s3.get_object(Bucket=fvehicular_bucket, Key='flujo.avro')[\"ContentLength\"]\n",
    "avro_size"
   ]
  },
  {
   "cell_type": "code",
   "execution_count": 247,
   "metadata": {},
   "outputs": [
    {
     "name": "stdout",
     "output_type": "stream",
     "text": [
      "b'Obj\\x01\\x04\\x14avro.codec\\x08null\\x16avro.schema\\xc4\\x04{\"type\": \"record\", \"name\": \"flujo_vehicular\", \"fields\": [{\"name\": \"HORA\", \"type\": \"int\"}, {\"name\": \"CODIGO_LOCACION\", \"type\": \"string\"}, {\"name\": \"CANTIDAD\", \"type\": \"int\"}, {\"name\": \"SENTIDO\", \"type\": \"string\"}, {\"name\": \"LATITUD\", \"type\": \"float\"}, {\"name\": \"LONGITUD\", \"type\": \"float\"}]}\\x00M\\x86\\x18\\xde!\\x84\\xe9g\\xfd\\xb8\\x10\\x15\\x17\\xb5  \\xce\\x07\\x98\\xfa\\x01\\x80\\xb2\\xe2\\xe5\\x0b\\x1248Q3CH00+\\x8a\\x01\\x0cEgreso\\x8bQ\\n\\xc2\\x00\\xb6i\\xc2\\x80\\xb2\\xe2\\xe5\\x0b\\x1248Q39G00+\\xe85\\x0eIngreso\\x80\\x88\\n\\xc2\\xd7\\xdfi\\xc2\\x80\\xb2\\xe2\\xe5\\x0b\\x1248Q3CJ00+\\xac\\x18\\x0cEgreso\\xedZ\\n\\xc2\\xad\\x86i\\xc2\\x80\\xb2\\xe2\\xe5\\x0b\\x1248Q3FG00+\\xba\\x04\\x0eInterna\\xde%\\n\\xc2E\\xe2i\\xc2\\x80\\xb2\\xe2\\xe5\\x0b\\x1248Q39G00+\\xba5\\x0cEgreso\\x80\\x88\\n\\xc2\\xd7\\xdfi\\xc2\\x80\\xb2\\xe2\\xe5\\x0b\\x1248Q39J00+\\xb0%\\x0eInterna(o\\n\\xc2\\xe7}i\\xc2\\x80\\xb2\\xe2\\xe5\\x0b\\x1248Q39H00+\\x94\\x1e\\x0eInterna\\xdex\\n\\xc2\\x15\\xa4i\\xc2\\x80\\xb2\\xe2\\xe5\\x0b\\x1248Q3CJ00+\\xe6\\x15\\x0eInterna\\xedZ\\n\\xc2\\xad\\x86i\\xc2\\x80\\xb2\\xe2\\xe5\\x0b\\x1248Q39G00+\\xce\\x07\\x0eInterna\\x80\\x88\\n\\xc2\\xd7\\xdfi\\xc2\\x80\\xb2\\xe2\\xe5\\x0b\\x1248Q3CH00+\\xd4\\x0c\\x0eInterna\\x8bQ\\n\\xc2\\x00\\xb6i\\xc2\\x80\\xb2\\xe2\\xe5\\x0b\\x1248Q3CJ00+\\xe8\\x17\\x0eIngreso\\xedZ\\n\\xc2\\xad\\x86i\\xc2\\xa0\\xea\\xe2\\xe5\\x0b\\x1248Q39G00+\\xe6\\x03\\x0eInterna\\x80\\x88\\n\\xc2\\xd7\\xdfi\\xc2\\xa0\\xea\\xe2\\xe5\\x0b\\x1248Q3CH00+\\xaa\\x07\\x0eInterna\\x8bQ\\n\\xc2\\x00\\xb6i\\xc2\\xa0\\xea\\xe2\\xe5\\x0b\\x1248Q39G00+\\xe8\\x1f\\x0cEgreso\\x80\\x88\\n\\xc2\\xd7\\xdfi\\xc2\\xa0\\xea\\xe2\\xe5\\x0b\\x1248Q3FG00+\\xb2\\x02\\x0eInterna\\xde%\\n\\xc2E\\xe2i\\xc2\\xa0\\xea\\xe2\\xe5\\x0b\\x1248Q39G00+\\xf2\\x1b\\x0eIngreso\\x80\\x88\\n\\xc2\\xd7\\xdfi\\xc2\\xa0\\xea\\xe2\\xe5\\x0b\\x1248Q3CJ00+\\xee\\x0e\\x0eIngreso\\xedZ\\n\\xc2\\xad\\x86i\\xc2\\xa0\\xea\\xe2\\xe5\\x0b\\x1248Q39H00+\\xfc\\x12\\x0eInterna\\xdex\\n\\xc2\\x15\\xa4i\\xc2\\xa0\\xea\\xe2\\xe5\\x0b\\x1248Q3CJ00+\\x9a\\x0f\\x0cEgreso\\xedZ\\n\\xc2\\xad\\x86i\\xc2\\xa0\\xea\\xe2\\xe5\\x0b\\x1248Q3CJ00+\\xe4\\x0f\\x0eInterna\\xedZ\\n\\xc2\\xad\\x86i\\xc2\\xa0\\xea\\xe2\\xe5\\x0b\\x1248Q39J00+\\xd6\\x19\\x0eInte'\n"
     ]
    }
   ],
   "source": [
    "csv_object_body = s3.get_object(Bucket=fvehicular_bucket, Key='flujo.avro')[\"Body\"]\n",
    "print(next(csv_object_body))"
   ]
  },
  {
   "cell_type": "code",
   "execution_count": 248,
   "metadata": {},
   "outputs": [
    {
     "data": {
      "text/plain": [
       "1.4681916236877441"
      ]
     },
     "execution_count": 248,
     "metadata": {},
     "output_type": "execute_result"
    }
   ],
   "source": [
    "start_time = time.time()\n",
    "result_records = []\n",
    "sb = s3.get_object(Bucket=fvehicular_bucket, Key='flujo.avro')[\"Body\"]\n",
    "for record in reader(sb):\n",
    "    if record[\"CANTIDAD\"] > 13000 and record[\"SENTIDO\"]==\"Egreso\":\n",
    "        result_records.append(record)\n",
    "avro_query_time = time.time() -start_time\n",
    "avro_query_time"
   ]
  },
  {
   "cell_type": "code",
   "execution_count": 249,
   "metadata": {},
   "outputs": [
    {
     "data": {
      "text/plain": [
       "[{'HORA': 1583514000,\n",
       "  'CODIGO_LOCACION': '48Q39G00+',\n",
       "  'CANTIDAD': 13041,\n",
       "  'SENTIDO': 'Egreso',\n",
       "  'LATITUD': -34.63330078125,\n",
       "  'LONGITUD': -58.46859359741211},\n",
       " {'HORA': 1583859600,\n",
       "  'CODIGO_LOCACION': '48Q39G00+',\n",
       "  'CANTIDAD': 13041,\n",
       "  'SENTIDO': 'Egreso',\n",
       "  'LATITUD': -34.63330078125,\n",
       "  'LONGITUD': -58.46859359741211}]"
      ]
     },
     "execution_count": 249,
     "metadata": {},
     "output_type": "execute_result"
    }
   ],
   "source": [
    "result_records"
   ]
  },
  {
   "cell_type": "code",
   "execution_count": 250,
   "metadata": {},
   "outputs": [
    {
     "data": {
      "text/plain": [
       "0.02808356285095215"
      ]
     },
     "execution_count": 250,
     "metadata": {},
     "output_type": "execute_result"
    }
   ],
   "source": [
    "start_date = int((dt.datetime(2020,3,10) - dt.datetime(1970,1,1)).total_seconds())\n",
    "end_date = int((dt.datetime(2020,3,12) - dt.datetime(1970,1,1)).total_seconds())\n",
    "\n",
    "start_time = time.time()\n",
    "result_seq_records = []\n",
    "sb = s3.get_object(Bucket=fvehicular_bucket, Key='flujo.avro')[\"Body\"]\n",
    "# Se puede usar el orden secuencial de las filas para la busqueda\n",
    "# dejando de traer chunks cuando ya no sea necesario.\n",
    "for record in reader(sb): \n",
    "    if record[\"HORA\"] >= end_date:\n",
    "        break\n",
    "    if record[\"HORA\"] > start_date:\n",
    "        result_seq_records.append(record)\n",
    "avro_query_seq_time = time.time() -start_time\n",
    "avro_query_seq_time"
   ]
  },
  {
   "cell_type": "code",
   "execution_count": 251,
   "metadata": {},
   "outputs": [
    {
     "data": {
      "text/plain": [
       "495"
      ]
     },
     "execution_count": 251,
     "metadata": {},
     "output_type": "execute_result"
    }
   ],
   "source": [
    "len(result_seq_records)"
   ]
  },
  {
   "cell_type": "markdown",
   "metadata": {},
   "source": [
    "# Parquet\n",
    "\n",
    " - archivo binario\n",
    " - orientado a columnas\n",
    " - permite definir esquemas\n",
    " - soporta evolucion del esquema\n",
    " - ofrece opciones de compresion\n",
    " - permite definir tipos de datos\n",
    " - organiza los registros en bloques\n",
    " - permite predicate pushdown\n",
    " - permite proyectar sobre columnas rapidamente\n",
    " - se usa en sistemas de almacenamiento distirbuido como hadoop o s3\n",
    " - procesamiento distribuido\n",
    " - se uso se enfoca en resolver consultas analiticas"
   ]
  },
  {
   "cell_type": "code",
   "execution_count": 46,
   "metadata": {},
   "outputs": [],
   "source": [
    "schema = pa.schema([\n",
    "    (\"CODIGO_LOCACION\", pa.string()),\n",
    "    (\"HORA\", pa.timestamp('ns')),\n",
    "    (\"CANTIDAD\", pa.int32()),\n",
    "    (\"SENTIDO\", pa.string()),\n",
    "    (\"LATITUD\", pa.float32()),\n",
    "    (\"LONGITUD\", pa.float32())\n",
    "])\n",
    "\n",
    "flujo_parq = pa.Table.from_pandas(df, schema=schema)"
   ]
  },
  {
   "cell_type": "code",
   "execution_count": 47,
   "metadata": {},
   "outputs": [
    {
     "data": {
      "text/plain": [
       "0.10874080657958984"
      ]
     },
     "execution_count": 47,
     "metadata": {},
     "output_type": "execute_result"
    }
   ],
   "source": [
    "start_time = time.time()\n",
    "with BytesIO() as parquet_buffer:\n",
    "    pq.write_table(flujo_parq, parquet_buffer)\n",
    "    s3.put_object(Body=parquet_buffer.getvalue(), Bucket=fvehicular_bucket, Key='flujo.parquet')\n",
    "parquet_write_time = time.time()-start_time\n",
    "parquet_write_time"
   ]
  },
  {
   "cell_type": "code",
   "execution_count": 48,
   "metadata": {},
   "outputs": [
    {
     "data": {
      "text/plain": [
       "0.04926419258117676"
      ]
     },
     "execution_count": 48,
     "metadata": {},
     "output_type": "execute_result"
    }
   ],
   "source": [
    "start_time = time.time()\n",
    "with BytesIO() as data:\n",
    "    s3.download_fileobj(fvehicular_bucket, 'flujo.parquet', data)\n",
    "    flujo_parq = pq.read_table(data)\n",
    "parquet_read_time = time.time() -start_time\n",
    "parquet_read_time"
   ]
  },
  {
   "cell_type": "code",
   "execution_count": 49,
   "metadata": {},
   "outputs": [
    {
     "data": {
      "text/plain": [
       "861009"
      ]
     },
     "execution_count": 49,
     "metadata": {},
     "output_type": "execute_result"
    }
   ],
   "source": [
    "parquet_size = s3.get_object(Bucket=fvehicular_bucket, Key='flujo.parquet',)[\"ContentLength\"]\n",
    "parquet_size"
   ]
  },
  {
   "cell_type": "code",
   "execution_count": 50,
   "metadata": {},
   "outputs": [
    {
     "name": "stdout",
     "output_type": "stream",
     "text": [
      "b'PAR1\\x15\\x04\\x15\\xea\\x01\\x15\\x86\\x01L\\x15\\x12\\x15\\x00\\x12\\x00\\x00u0\\t\\x00\\x00\\x0048Q3CJ00+\\x11\\r\\x049G\\x1d\\r\\x04CH\\x1d\\r\\x009.\\'\\x00\\x00F.\\'\\x00\\x009\\x11\\'\\x14272622\\r4\\x0c2H2M\\x15\\r 39H7JC00+\\x15\\x00\\x15\\xbc\\x9a\\x03\\x15\\x9c\\xb8\\x01,\\x15\\xec\\x95\\x17\\x15\\x10\\x15\\x06\\x15\\x06\\x1c6\\x00(\\t48Q3FG00+\\x18\\t27262200+\\x00\\x00\\x00\\x9e\\xcd\\x01t\\x04\\x00\\x00\\x00\\xec\\x95\\x17\\x01\\x04\\x7f\\x00\\x11\"\\x13A\\x00 2\\x15\\x11\\x04\\x00\"S\\x11B\\x00 S\\x11\\t\\x0b\\x10A\\x00 !S\\x15\\x0b\\x11!\\x1d,>\\x0b\\x00\\x10!\\x04\\x002\\x15\\x15\\x16\\x08\\x122\\x15>!\\x00BM\\x00\\x1dn\\x1d\\x0b\\x8ay\\x00\\x0c\\x01\\x00B2Fp\\x00\\x1dD\\x1d\\x0b\\x04E\\x10^\\x88\\x00\\x00\\x7f\\t\\xd6\\x04!22:\\x00^.\\x00\\t-6$\\x01\\x00B\\x01=\\x1d1\\x1dwN\\xc6\\x00\\xb2 \\x01\\x00\\x01\\xb2.\\x00>\\x98\\x00\\x82\\xc7\\x01\\r\\xfd\\x1c\"S\\x11E\\x00\\x10!2=\\x9cB\\xc8\\x01\\x00S\\x01\\xcd2\\x01\\x02\\x1d#\\x1d\\x0b\\x14\\x11\\x04\\x00\\x122E9)=\\x19\\x05\\x0b\\x04Q\\x04An=$\\x1d\\x0bN/\\x01\\xb2x\\x00.\\x87\\x01\\x05n\\x1d\\xd2\\x04\\x11\\x04!\\xa8\\x1dn\\x00\\x7f\\x1d\\x0c\\xcez\\x00\\x04\"S\\x1d\\xf7\\x1d\\x0b%\\x02z\\x8a\\x00z\\xaa\\x019\\xba\\x00\\x15\\x01\\xb6\\x1d]\\x1d\\x0b\\x11h\\x05-\\x18\\x00 S\\x10S\\x10 A0\\x11\\x04\\x01\\x181\\x05\\x00!\\x15\\x91M\\x14\\x00\\x7f%Xv\\xdc\\x03\\x0cC\\x00\\x10\\x116\\xf3\\x01=O\\x04\\x01\\x04\\x01\\x1b\\x05`\\x15\\x94\\x00\"2 \\x02\\x1d-\\t\\xab\\x00@\\x01\\xf7\\t\\x16n{\\x01\\x04\\x00 -Y\\x85\\x8d\\x0cA\\x00 \\x12\\r\\x10\\x05m\\x15\\x16\\x11l\\x01\\xef\\x01\\xeb\\x01\\x08\\x01\\x04\\x01\\x0c\\x04 R6a\\x00\\x11,\\tBE\\xf7\\x05]\\tM\\x00BQe\\x15\\xc9JX\\x04\\t;\\x056>\\x0b\\x00I\\xd3\\x1d\\x166}\\x00ve\\x01\\x057\\xday\\x00B\\xd3\\x02\\x05MB\\xa5\\x00\\x01\\xb5\\x001\\x01\\x17\\x1c\\x122\\x15\\x01\\x00\\x7f\"S5,10\\x058\\x10Q\\x04\\x01\\x10\"\\xd2\\x9a\\x032G\\x00\\t\\x95\\x05R\\x05z\\t]\\x19\\x0b\\x00%\\xe2a\\x064\\x05\\x002\\x11\\x11\\x002P\\x13\\x00 Q\\x02\\x00\\x19\\xc6!\\xf2\\x01\\x834\\x01\\x00\\x11B\\x00Q\\x10\\x12#\\x11Q#\\x00@\\x05\\x82=YE\\x84\\x00\\x7f.\\x01\\x04\\x00\\x12\\t\\x95\\x9a\\x97\\x02!F6\\xcc\\x00\\x08\\x01\"SN\\x06\\x03Em\\xb6\\xfa\\x06\\x0cQ\\x10\\x002A\\xf8.\\x04\\x00\\x0c!\\x000\\x15\\x11\\x10\\x10!\\x00Q\\x01#\\r\\x10\\x00QM\\xb6\\xc6\\xb3\\x04\\x00\\x7f\\xb6\\x9c\\x07\\x994a\\xb8\\xfe\\xd4\\x02\\xb6\\xd4\\x02\\x19\\xaa\\xee]\\x03i])\\xba\\x00\\x7fU\\x10)\\xa1e\\xf4\\x00\\x10\\xfe\\xc4\\x056\\xc4\\x05]n\\x1d\\x0bEyJ\\x11\\x03!\\xc2\\x8a,\\x02)\\x01\\x05\\xaf\\t/6\\x0b\\x00\\x82\\xb9\\x07\\x01\\xf8\\x00\\x7f\\x01\\x8568\\x00\\x01\\x17\\r\\x16=\\xdb\\x1d\\x0b\\xc6`\\x029\\xb5\\x11\\xf3\\x0e\\xbe\\x08E>\\x1dn\\x11\\x0b\\x04!2.\\x11\\x06\\t\\x16q\\xcaF\\t\\x00a\\xe0e\\xe5\\t\\x1b\\x08\\x10 S:\\x12\\x00\\x01kV?\\x00\\x00\\x7f\\x01\\x17\\x15\\x1c\\x10!\\x10\\x15\\x010j.\\x002\\x1b\\x00\\x05\\r\\x05\\x05\\x01D\\x01ve\\x96\\x19\\x12\\tv\\x00\\x03J\\x0c\\x07%]\\xb6\\x06\\x04N~\\x01\\x8d\\xa4=\\x98\\x1d\\x0bB\\xa3\\x01\\xa9|\\x1d\"\\x00B\\t\\xfd1\\x84\\x00!2\\xcc\\x0b\\x00TB\\xc9\\x00\\x89\\x81\\t\\xed\\x1c\\x002\\x15Q\\x00\\x01!\\x13\\x0e\\xcc\\t\\x01Y\\x00\\x02NA\\x02=\\xf4\\x1d\\x0b\\x08\\x11\\x04\\x00\\x11r%\\x07\\x16`\\n\\x18\"\\x13Q\\x04\\x00\"\\x13\\x01\\xb6\\xb6`\\x07\\t\\xbf.\\xd6\\x00!\\x8e\\t\\x16B\\x03\\x01.y\\x00\\x00\\x7f\\x0e\\xa4\\tRW\\x01^\\x0c\\x03E\\x87\\x1d\\xca\\x1d\\x0bQ\\xd4\\x15\\xd3\\x05,2p\\x00A\\xd4\\x1d\\x9c\\x1d\\x0br\\xa7\\x00\\x15\\x8e.n\\x00\\x01\\xe3!\\x846\\t\\x00Ap\\x00\\x10\\x05t2]\\x00\\x0c\\x10\\x15\"#y~\\tG\\x89\\xf1N\\xb6\\x006\\x06\\x02\\x19'\n"
     ]
    }
   ],
   "source": [
    "parquet_object_body = s3.get_object(Bucket=fvehicular_bucket, Key='flujo.parquet',)[\"Body\"]\n",
    "print(next(parquet_object_body))"
   ]
  },
  {
   "cell_type": "code",
   "execution_count": 51,
   "metadata": {},
   "outputs": [
    {
     "data": {
      "text/plain": [
       "0.036362409591674805"
      ]
     },
     "execution_count": 51,
     "metadata": {},
     "output_type": "execute_result"
    }
   ],
   "source": [
    "start_time = time.time()\n",
    "with BytesIO() as data:\n",
    "    s3.download_fileobj(fvehicular_bucket, 'flujo.parquet', data)\n",
    "    result_parq = pq.read_table(data,\n",
    "                               filters=[\n",
    "                          (\"CANTIDAD\", \">\", 13000),\n",
    "                          (\"SENTIDO\", \"=\", \"Egreso\"),\n",
    "                      ])\n",
    "parquet_query_time = time.time() -start_time\n",
    "parquet_query_time"
   ]
  },
  {
   "cell_type": "code",
   "execution_count": 52,
   "metadata": {},
   "outputs": [
    {
     "data": {
      "text/plain": [
       "pyarrow.Table\n",
       "CODIGO_LOCACION: string\n",
       "HORA: timestamp[ns]\n",
       "CANTIDAD: int32\n",
       "SENTIDO: string\n",
       "LATITUD: float\n",
       "LONGITUD: float\n",
       "----\n",
       "CODIGO_LOCACION: [[\"48Q39G00+\",\"48Q39G00+\"],[]]\n",
       "HORA: [[2020-03-10 17:00:00.000000000,2020-03-06 17:00:00.000000000],[]]\n",
       "CANTIDAD: [[13041,13041],[]]\n",
       "SENTIDO: [[\"Egreso\",\"Egreso\"],[]]\n",
       "LATITUD: [[-34.6333,-34.6333],[]]\n",
       "LONGITUD: [[-58.468594,-58.468594],[]]"
      ]
     },
     "execution_count": 52,
     "metadata": {},
     "output_type": "execute_result"
    }
   ],
   "source": [
    "result_parq"
   ]
  },
  {
   "cell_type": "code",
   "execution_count": 236,
   "metadata": {},
   "outputs": [
    {
     "data": {
      "text/plain": [
       "0.0361943244934082"
      ]
     },
     "execution_count": 236,
     "metadata": {},
     "output_type": "execute_result"
    }
   ],
   "source": [
    "start_time = time.time()\n",
    "with BytesIO() as data:\n",
    "    s3.download_fileobj(fvehicular_bucket, 'flujo.parquet', data)\n",
    "    result_seq_parq = pq.read_table(data,\n",
    "                               filters=[\n",
    "                          (\"HORA\", \">\", pa.scalar(dt.datetime.strptime('2020-03-10', \"%Y-%m-%d\"))),\n",
    "                          (\"HORA\", \"<\", pa.scalar(dt.datetime.strptime('2020-03-12', \"%Y-%m-%d\"))),\n",
    "                      ])\n",
    "parquet_query_seq_time = time.time() -start_time\n",
    "parquet_query_seq_time"
   ]
  },
  {
   "cell_type": "code",
   "execution_count": 237,
   "metadata": {},
   "outputs": [
    {
     "data": {
      "text/plain": [
       "495"
      ]
     },
     "execution_count": 237,
     "metadata": {},
     "output_type": "execute_result"
    }
   ],
   "source": [
    "len(result_seq_parq)"
   ]
  },
  {
   "cell_type": "markdown",
   "metadata": {},
   "source": [
    "# Comparacion"
   ]
  },
  {
   "cell_type": "code",
   "execution_count": 71,
   "metadata": {},
   "outputs": [
    {
     "data": {
      "image/png": "[encoded data removed]",
      "text/plain": [
       "<Figure size 640x480 with 1 Axes>"
      ]
     },
     "metadata": {},
     "output_type": "display_data"
    }
   ],
   "source": [
    "fig, ax = plt.subplots()\n",
    "\n",
    "format = ['csv', 'avro', 'parquet']\n",
    "sizes = [csv_size/1024**2, avro_size/1024**2, parquet_size/1024**2]\n",
    "ax.set_ylabel('File size (Mb)')\n",
    "\n",
    "ax.bar(format, sizes);"
   ]
  },
  {
   "cell_type": "code",
   "execution_count": 252,
   "metadata": {},
   "outputs": [
    {
     "data": {
      "image/png": "[encoded data removed]",
      "text/plain": [
       "<Figure size 640x480 with 1 Axes>"
      ]
     },
     "metadata": {},
     "output_type": "display_data"
    }
   ],
   "source": [
    "fig, ax = plt.subplots()\n",
    "\n",
    "\n",
    "ops = ['reads', 'writes', 'queries', 'seq_queries']\n",
    "format_times = {\n",
    "    'csv': [csv_read_time, csv_write_time, csv_query_time, csv_query_seq_time],\n",
    "    'avro': [avro_read_time, avro_write_time, avro_query_time, avro_query_seq_time],\n",
    "    'parquet': [parquet_read_time, parquet_write_time, parquet_query_time, parquet_query_seq_time],\n",
    "}\n",
    "\n",
    "x = list(range(len(ops)))\n",
    "width = 0.25\n",
    "multiplier = 0\n",
    "\n",
    "for attribute, measurement in format_times.items():\n",
    "    offset = width * multiplier\n",
    "    rects = ax.bar([x_i + offset for x_i in x], measurement, width, label=attribute)\n",
    "    multiplier += 1\n",
    "\n",
    "ax.set_ylabel('Time (seg)')\n",
    "ax.set_xticks([x_i + width for x_i in x], ops)\n",
    "ax.legend(ncols=3);"
   ]
  },
  {
   "cell_type": "code",
   "execution_count": null,
   "metadata": {},
   "outputs": [],
   "source": []
  }
 ],
 "metadata": {
  "kernelspec": {
   "display_name": "duk",
   "language": "python",
   "name": "python3"
  },
  "language_info": {
   "codemirror_mode": {
    "name": "ipython",
    "version": 3
   },
   "file_extension": ".py",
   "mimetype": "text/x-python",
   "name": "python",
   "nbconvert_exporter": "python",
   "pygments_lexer": "ipython3",
   "version": "3.9.14"
  }
 },
 "nbformat": 4,
 "nbformat_minor": 2
}
